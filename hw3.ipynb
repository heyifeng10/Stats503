{
 "cells": [
  {
   "cell_type": "markdown",
   "metadata": {},
   "source": [
    "Consider the Ozone data set"
   ]
  },
  {
   "cell_type": "markdown",
   "metadata": {},
   "source": [
    "Split the data into a training set (70%) and a test set (30%). Fit a\n",
    "linear model on the training data, using the cube root of ozone\n",
    "concentration as the response and temperature, wind speed,\n",
    "and radiation as the predictors. Report the results."
   ]
  },
  {
   "cell_type": "code",
   "execution_count": 1,
   "metadata": {},
   "outputs": [],
   "source": [
    "data = read.delim(file = file.path(\"C:/Users/Vance He/Desktop/UMich/2020_WN/STATS503/hw/hw3/ozone_data.txt\"))"
   ]
  },
  {
   "cell_type": "code",
   "execution_count": 2,
   "metadata": {},
   "outputs": [
    {
     "data": {
      "text/html": [
       "<ol class=list-inline>\n",
       "\t<li>111</li>\n",
       "\t<li>4</li>\n",
       "</ol>\n"
      ],
      "text/latex": [
       "\\begin{enumerate*}\n",
       "\\item 111\n",
       "\\item 4\n",
       "\\end{enumerate*}\n"
      ],
      "text/markdown": [
       "1. 111\n",
       "2. 4\n",
       "\n",
       "\n"
      ],
      "text/plain": [
       "[1] 111   4"
      ]
     },
     "metadata": {},
     "output_type": "display_data"
    }
   ],
   "source": [
    "dim(data)"
   ]
  },
  {
   "cell_type": "code",
   "execution_count": 3,
   "metadata": {},
   "outputs": [
    {
     "data": {
      "text/html": [
       "<table>\n",
       "<thead><tr><th scope=col>ozone</th><th scope=col>radiation</th><th scope=col>temperature</th><th scope=col>wind</th></tr></thead>\n",
       "<tbody>\n",
       "\t<tr><td>41  </td><td>190 </td><td>67  </td><td> 7.4</td></tr>\n",
       "\t<tr><td>36  </td><td>118 </td><td>72  </td><td> 8.0</td></tr>\n",
       "\t<tr><td>12  </td><td>149 </td><td>74  </td><td>12.6</td></tr>\n",
       "\t<tr><td>18  </td><td>313 </td><td>62  </td><td>11.5</td></tr>\n",
       "\t<tr><td>23  </td><td>299 </td><td>65  </td><td> 8.6</td></tr>\n",
       "\t<tr><td>19  </td><td> 99 </td><td>59  </td><td>13.8</td></tr>\n",
       "</tbody>\n",
       "</table>\n"
      ],
      "text/latex": [
       "\\begin{tabular}{r|llll}\n",
       " ozone & radiation & temperature & wind\\\\\n",
       "\\hline\n",
       "\t 41   & 190  & 67   &  7.4\\\\\n",
       "\t 36   & 118  & 72   &  8.0\\\\\n",
       "\t 12   & 149  & 74   & 12.6\\\\\n",
       "\t 18   & 313  & 62   & 11.5\\\\\n",
       "\t 23   & 299  & 65   &  8.6\\\\\n",
       "\t 19   &  99  & 59   & 13.8\\\\\n",
       "\\end{tabular}\n"
      ],
      "text/markdown": [
       "\n",
       "| ozone | radiation | temperature | wind |\n",
       "|---|---|---|---|\n",
       "| 41   | 190  | 67   |  7.4 |\n",
       "| 36   | 118  | 72   |  8.0 |\n",
       "| 12   | 149  | 74   | 12.6 |\n",
       "| 18   | 313  | 62   | 11.5 |\n",
       "| 23   | 299  | 65   |  8.6 |\n",
       "| 19   |  99  | 59   | 13.8 |\n",
       "\n"
      ],
      "text/plain": [
       "  ozone radiation temperature wind\n",
       "1 41    190       67           7.4\n",
       "2 36    118       72           8.0\n",
       "3 12    149       74          12.6\n",
       "4 18    313       62          11.5\n",
       "5 23    299       65           8.6\n",
       "6 19     99       59          13.8"
      ]
     },
     "metadata": {},
     "output_type": "display_data"
    }
   ],
   "source": [
    "head(data)"
   ]
  },
  {
   "cell_type": "code",
   "execution_count": 4,
   "metadata": {},
   "outputs": [],
   "source": [
    "n = dim(data)[1]\n",
    "train_id = sample(seq(1, n, 1), floor(n*0.7))\n",
    "test = data[-train_id, ]\n",
    "train = data[train_id, ]"
   ]
  },
  {
   "cell_type": "code",
   "execution_count": 5,
   "metadata": {},
   "outputs": [],
   "source": [
    "lmod = lm(formula = ozone^(1/3) ~ radiation + temperature + wind, data=train)"
   ]
  },
  {
   "cell_type": "code",
   "execution_count": 5,
   "metadata": {},
   "outputs": [],
   "source": [
    "lmod1 = lm(formula = ozone ~ radiation + temperature + wind, data=train)"
   ]
  },
  {
   "cell_type": "code",
   "execution_count": 6,
   "metadata": {},
   "outputs": [
    {
     "data": {
      "text/plain": [
       "\n",
       "Call:\n",
       "lm(formula = ozone^(1/3) ~ radiation + temperature + wind, data = train)\n",
       "\n",
       "Residuals:\n",
       "     Min       1Q   Median       3Q      Max \n",
       "-1.11733 -0.36106 -0.04297  0.23647  1.51661 \n",
       "\n",
       "Coefficients:\n",
       "              Estimate Std. Error t value Pr(>|t|)    \n",
       "(Intercept) -0.6627028  0.7104030  -0.933   0.3540    \n",
       "radiation    0.0016658  0.0007306   2.280   0.0255 *  \n",
       "temperature  0.0559552  0.0078753   7.105 6.65e-10 ***\n",
       "wind        -0.0779103  0.0198940  -3.916   0.0002 ***\n",
       "---\n",
       "Signif. codes:  0 '***' 0.001 '**' 0.01 '*' 0.05 '.' 0.1 ' ' 1\n",
       "\n",
       "Residual standard error: 0.508 on 73 degrees of freedom\n",
       "Multiple R-squared:  0.6831,\tAdjusted R-squared:   0.67 \n",
       "F-statistic: 52.44 on 3 and 73 DF,  p-value: < 2.2e-16\n"
      ]
     },
     "metadata": {},
     "output_type": "display_data"
    }
   ],
   "source": [
    "summary(lmod)"
   ]
  },
  {
   "cell_type": "code",
   "execution_count": 6,
   "metadata": {},
   "outputs": [
    {
     "data": {
      "text/plain": [
       "\n",
       "Call:\n",
       "lm(formula = ozone ~ radiation + temperature + wind, data = train)\n",
       "\n",
       "Residuals:\n",
       "    Min      1Q  Median      3Q     Max \n",
       "-40.336 -13.710  -3.586   9.506  92.678 \n",
       "\n",
       "Coefficients:\n",
       "             Estimate Std. Error t value Pr(>|t|)    \n",
       "(Intercept) -43.25548   28.97314  -1.493   0.1398    \n",
       "radiation     0.07009    0.03030   2.313   0.0235 *  \n",
       "temperature   1.42051    0.32536   4.366 4.10e-05 ***\n",
       "wind         -3.87234    0.82463  -4.696 1.21e-05 ***\n",
       "---\n",
       "Signif. codes:  0 '***' 0.001 '**' 0.01 '*' 0.05 '.' 0.1 ' ' 1\n",
       "\n",
       "Residual standard error: 21.96 on 73 degrees of freedom\n",
       "Multiple R-squared:  0.5694,\tAdjusted R-squared:  0.5517 \n",
       "F-statistic: 32.17 on 3 and 73 DF,  p-value: 2.318e-13\n"
      ]
     },
     "metadata": {},
     "output_type": "display_data"
    }
   ],
   "source": [
    "summary(lmod1)"
   ]
  },
  {
   "cell_type": "markdown",
   "metadata": {},
   "source": [
    "Fit a GAM on the training data, using the cube root of ozone\n",
    "concentration as the response and temperature, wind speed,\n",
    "and radiation as the predictors. Plot the results, and explain\n",
    "your findings."
   ]
  },
  {
   "cell_type": "markdown",
   "metadata": {},
   "source": [
    "We use mgcv::gam (caret method = “gam”), because it automates the search for degrees of freedom (providing a reasonable model without a lot of fuss). The cross validation results indicate that the Generalized Additive Model (GAM) has lower Mean Squared Error (MSE) than the Generalized Linear Model (GLM). This is likely caused by non-linear effects associated with predictors like Expend."
   ]
  },
  {
   "cell_type": "code",
   "execution_count": 7,
   "metadata": {},
   "outputs": [
    {
     "name": "stderr",
     "output_type": "stream",
     "text": [
      "Loading required package: lattice\n",
      "Loading required package: ggplot2\n",
      "Warning message:\n",
      "\"package 'ggplot2' was built under R version 3.6.2\"Warning message:\n",
      "\"package 'dplyr' was built under R version 3.6.2\"\n",
      "Attaching package: 'dplyr'\n",
      "\n",
      "The following objects are masked from 'package:stats':\n",
      "\n",
      "    filter, lag\n",
      "\n",
      "The following objects are masked from 'package:base':\n",
      "\n",
      "    intersect, setdiff, setequal, union\n",
      "\n"
     ]
    }
   ],
   "source": [
    "library(caret)\n",
    "library(dplyr)"
   ]
  },
  {
   "cell_type": "code",
   "execution_count": 8,
   "metadata": {},
   "outputs": [
    {
     "ename": "ERROR",
     "evalue": "Error in eval(expr, envir, enclos): object 'train_y' not found\n",
     "output_type": "error",
     "traceback": [
      "Error in eval(expr, envir, enclos): object 'train_y' not found\nTraceback:\n"
     ]
    }
   ],
   "source": [
    "dim(train_y)"
   ]
  },
  {
   "cell_type": "code",
   "execution_count": 9,
   "metadata": {},
   "outputs": [],
   "source": [
    "train_x = train %>% select(\"radiation\", \"temperature\", \"wind\")\n",
    "train_y = train %>% select(\"ozone\")"
   ]
  },
  {
   "cell_type": "code",
   "execution_count": 10,
   "metadata": {},
   "outputs": [
    {
     "name": "stderr",
     "output_type": "stream",
     "text": [
      "Loading required package: mgcv\n",
      "Loading required package: nlme\n",
      "\n",
      "Attaching package: 'nlme'\n",
      "\n",
      "The following object is masked from 'package:dplyr':\n",
      "\n",
      "    collapse\n",
      "\n",
      "This is mgcv 1.8-28. For overview type 'help(\"mgcv-package\")'.\n"
     ]
    }
   ],
   "source": [
    "trControl = trainControl(\"repeatedcv\", number = 10, repeats = 3)\n",
    "model.gam = train(ozone^(1/3) ~ radiation + temperature + wind, data=train, method = \"gam\", trControl = trControl)"
   ]
  },
  {
   "cell_type": "code",
   "execution_count": 11,
   "metadata": {},
   "outputs": [
    {
     "data": {
      "text/html": [
       "<table>\n",
       "<thead><tr><th scope=col>select</th><th scope=col>method</th><th scope=col>RMSE</th><th scope=col>Rsquared</th><th scope=col>MAE</th><th scope=col>RMSESD</th><th scope=col>RsquaredSD</th><th scope=col>MAESD</th></tr></thead>\n",
       "<tbody>\n",
       "\t<tr><td>FALSE    </td><td>GCV.Cp   </td><td>0.5515170</td><td>0.6795564</td><td>0.4327670</td><td>0.1563984</td><td>0.1270956</td><td>0.1177021</td></tr>\n",
       "\t<tr><td> TRUE    </td><td>GCV.Cp   </td><td>0.5376137</td><td>0.6771272</td><td>0.4192099</td><td>0.1443660</td><td>0.1314614</td><td>0.1085904</td></tr>\n",
       "</tbody>\n",
       "</table>\n"
      ],
      "text/latex": [
       "\\begin{tabular}{r|llllllll}\n",
       " select & method & RMSE & Rsquared & MAE & RMSESD & RsquaredSD & MAESD\\\\\n",
       "\\hline\n",
       "\t FALSE     & GCV.Cp    & 0.5515170 & 0.6795564 & 0.4327670 & 0.1563984 & 0.1270956 & 0.1177021\\\\\n",
       "\t  TRUE     & GCV.Cp    & 0.5376137 & 0.6771272 & 0.4192099 & 0.1443660 & 0.1314614 & 0.1085904\\\\\n",
       "\\end{tabular}\n"
      ],
      "text/markdown": [
       "\n",
       "| select | method | RMSE | Rsquared | MAE | RMSESD | RsquaredSD | MAESD |\n",
       "|---|---|---|---|---|---|---|---|\n",
       "| FALSE     | GCV.Cp    | 0.5515170 | 0.6795564 | 0.4327670 | 0.1563984 | 0.1270956 | 0.1177021 |\n",
       "|  TRUE     | GCV.Cp    | 0.5376137 | 0.6771272 | 0.4192099 | 0.1443660 | 0.1314614 | 0.1085904 |\n",
       "\n"
      ],
      "text/plain": [
       "  select method RMSE      Rsquared  MAE       RMSESD    RsquaredSD MAESD    \n",
       "1 FALSE  GCV.Cp 0.5515170 0.6795564 0.4327670 0.1563984 0.1270956  0.1177021\n",
       "2  TRUE  GCV.Cp 0.5376137 0.6771272 0.4192099 0.1443660 0.1314614  0.1085904"
      ]
     },
     "metadata": {},
     "output_type": "display_data"
    }
   ],
   "source": [
    "model.gam$results"
   ]
  },
  {
   "cell_type": "code",
   "execution_count": 12,
   "metadata": {},
   "outputs": [
    {
     "name": "stderr",
     "output_type": "stream",
     "text": [
      "Warning message:\n",
      "\"package 'gam' was built under R version 3.6.2\"Loading required package: splines\n",
      "Loading required package: foreach\n",
      "Loaded gam 1.16.1\n",
      "\n",
      "\n",
      "Attaching package: 'gam'\n",
      "\n",
      "The following objects are masked from 'package:mgcv':\n",
      "\n",
      "    gam, gam.control, gam.fit, s\n",
      "\n"
     ]
    }
   ],
   "source": [
    "library(gam)"
   ]
  },
  {
   "cell_type": "code",
   "execution_count": 18,
   "metadata": {},
   "outputs": [
    {
     "data": {
      "image/png": "[encoded data removed]",
      "text/plain": [
       "plot without title"
      ]
     },
     "metadata": {},
     "output_type": "display_data"
    }
   ],
   "source": [
    "par(mfrow = c(2, 2))\n",
    "plot(model.gam$finalModel)"
   ]
  },
  {
   "cell_type": "code",
   "execution_count": 17,
   "metadata": {},
   "outputs": [
    {
     "data": {
      "text/plain": [
       "\n",
       "Family: gaussian \n",
       "Link function: identity \n",
       "\n",
       "Formula:\n",
       ".outcome ~ s(wind) + s(temperature) + s(radiation)\n",
       "\n",
       "Estimated degrees of freedom:\n",
       "2.21 5.93 1.00  total = 10.14 \n",
       "\n",
       "GCV score: 0.2391901     "
      ]
     },
     "metadata": {},
     "output_type": "display_data"
    }
   ],
   "source": [
    "model.gam$finalModel"
   ]
  },
  {
   "cell_type": "code",
   "execution_count": 23,
   "metadata": {},
   "outputs": [
    {
     "name": "stderr",
     "output_type": "stream",
     "text": [
      "Warning message in model.matrix.default(mt, mf, contrasts):\n",
      "\"non-list contrasts argument ignored\""
     ]
    }
   ],
   "source": [
    "gam2 = gam(ozone^(1/3) ~ ns(radiation, 3) + ns(temperature, 6) + ns(wind, 2), data=train)"
   ]
  },
  {
   "cell_type": "code",
   "execution_count": 21,
   "metadata": {},
   "outputs": [
    {
     "name": "stderr",
     "output_type": "stream",
     "text": [
      "Warning message in model.matrix.default(mt, mf, contrasts):\n",
      "\"non-list contrasts argument ignored\""
     ]
    }
   ],
   "source": [
    "gam1 = gam(ozone^(1/3) ~ s(radiation, 2.78) + s(temperature, 5.59) + s(wind, 2.28), data=train)"
   ]
  },
  {
   "cell_type": "code",
   "execution_count": 22,
   "metadata": {},
   "outputs": [
    {
     "data": {
      "image/png": "[encoded data removed]",
      "text/plain": [
       "plot without title"
      ]
     },
     "metadata": {},
     "output_type": "display_data"
    }
   ],
   "source": [
    "par(mfrow = c(2, 2))\n",
    "plot(gam1 ,col=\"blue\")"
   ]
  },
  {
   "cell_type": "markdown",
   "metadata": {},
   "source": [
    "<font color=\"red\">how to explain findings</font>"
   ]
  },
  {
   "cell_type": "markdown",
   "metadata": {},
   "source": [
    "Evaluate both models on the test set, and explain the results."
   ]
  },
  {
   "cell_type": "markdown",
   "metadata": {},
   "source": [
    "**Linear model**"
   ]
  },
  {
   "cell_type": "code",
   "execution_count": 25,
   "metadata": {},
   "outputs": [],
   "source": [
    "test_x = test %>% select(\"radiation\", \"temperature\", \"wind\")\n",
    "test_y = (test %>% select(\"ozone\"))^(1/3)"
   ]
  },
  {
   "cell_type": "code",
   "execution_count": 27,
   "metadata": {},
   "outputs": [],
   "source": [
    "linear_pred = predict(lmod, test_x)"
   ]
  },
  {
   "cell_type": "code",
   "execution_count": 43,
   "metadata": {},
   "outputs": [
    {
     "data": {
      "text/html": [
       "0.329556009931061"
      ],
      "text/latex": [
       "0.329556009931061"
      ],
      "text/markdown": [
       "0.329556009931061"
      ],
      "text/plain": [
       "[1] 0.329556"
      ]
     },
     "metadata": {},
     "output_type": "display_data"
    }
   ],
   "source": [
    "mean((linear_pred - test_y$ozone)^2)"
   ]
  },
  {
   "cell_type": "code",
   "execution_count": 51,
   "metadata": {},
   "outputs": [
    {
     "data": {
      "text/html": [
       "<ol class=list-inline>\n",
       "\t<li>34</li>\n",
       "\t<li>1</li>\n",
       "</ol>\n"
      ],
      "text/latex": [
       "\\begin{enumerate*}\n",
       "\\item 34\n",
       "\\item 1\n",
       "\\end{enumerate*}\n"
      ],
      "text/markdown": [
       "1. 34\n",
       "2. 1\n",
       "\n",
       "\n"
      ],
      "text/plain": [
       "[1] 34  1"
      ]
     },
     "metadata": {},
     "output_type": "display_data"
    }
   ],
   "source": [
    "dim(test_y)"
   ]
  },
  {
   "cell_type": "code",
   "execution_count": 52,
   "metadata": {},
   "outputs": [
    {
     "data": {
      "text/html": [
       "0.329556009931061"
      ],
      "text/latex": [
       "0.329556009931061"
      ],
      "text/markdown": [
       "0.329556009931061"
      ],
      "text/plain": [
       "[1] 0.329556"
      ]
     },
     "metadata": {},
     "output_type": "display_data"
    }
   ],
   "source": [
    "sum((linear_pred - test_y$ozone)^2)/34"
   ]
  },
  {
   "cell_type": "code",
   "execution_count": 49,
   "metadata": {},
   "outputs": [
    {
     "data": {
      "text/html": [
       "0.0983095500599944"
      ],
      "text/latex": [
       "0.0983095500599944"
      ],
      "text/markdown": [
       "0.0983095500599944"
      ],
      "text/plain": [
       "[1] 0.09830955"
      ]
     },
     "metadata": {},
     "output_type": "display_data"
    }
   ],
   "source": [
    "mean((linear_pred - test_y$ozone))"
   ]
  },
  {
   "cell_type": "code",
   "execution_count": 47,
   "metadata": {},
   "outputs": [
    {
     "data": {
      "text/html": [
       "0.108607163681681"
      ],
      "text/latex": [
       "0.108607163681681"
      ],
      "text/markdown": [
       "0.108607163681681"
      ],
      "text/plain": [
       "[1] 0.1086072"
      ]
     },
     "metadata": {},
     "output_type": "display_data"
    }
   ],
   "source": [
    "(mean((linear_pred - test_y$ozone)^2))^2"
   ]
  },
  {
   "cell_type": "markdown",
   "metadata": {},
   "source": [
    "GAM model"
   ]
  },
  {
   "cell_type": "code",
   "execution_count": 44,
   "metadata": {},
   "outputs": [],
   "source": [
    "gam_pred = predict(gam1, test_x)"
   ]
  },
  {
   "cell_type": "code",
   "execution_count": 46,
   "metadata": {},
   "outputs": [
    {
     "data": {
      "text/html": [
       "0.32478090685368"
      ],
      "text/latex": [
       "0.32478090685368"
      ],
      "text/markdown": [
       "0.32478090685368"
      ],
      "text/plain": [
       "[1] 0.3247809"
      ]
     },
     "metadata": {},
     "output_type": "display_data"
    }
   ],
   "source": [
    "mean((gam_pred - test_y$ozone)^2)"
   ]
  },
  {
   "cell_type": "code",
   "execution_count": 26,
   "metadata": {},
   "outputs": [
    {
     "data": {
      "text/html": [
       "0.256989878448663"
      ],
      "text/latex": [
       "0.256989878448663"
      ],
      "text/markdown": [
       "0.256989878448663"
      ],
      "text/plain": [
       "[1] 0.2569899"
      ]
     },
     "metadata": {},
     "output_type": "display_data"
    }
   ],
   "source": [
    "gam_pred2 = predict(gam2, test_x)\n",
    "mean((gam_pred2 - test_y$ozone)^2)"
   ]
  },
  {
   "cell_type": "markdown",
   "metadata": {},
   "source": [
    "<font color=\"red\">how to explain results</font>"
   ]
  },
  {
   "cell_type": "markdown",
   "metadata": {},
   "source": [
    "For which variables, if any, is there evidence of a non-linear relationship\n",
    "with the response?\n",
    "\n",
    "<font color=\"red\">check here</font>"
   ]
  },
  {
   "cell_type": "code",
   "execution_count": 53,
   "metadata": {},
   "outputs": [
    {
     "data": {
      "text/plain": [
       "\n",
       "Call: gam(formula = ozone^(1/3) ~ s(radiation, 2.78) + s(temperature, \n",
       "    5.59) + s(wind, 2.28), data = train)\n",
       "Deviance Residuals:\n",
       "     Min       1Q   Median       3Q      Max \n",
       "-0.94414 -0.25837 -0.06349  0.25062  1.10810 \n",
       "\n",
       "(Dispersion Parameter for gaussian family taken to be 0.1747)\n",
       "\n",
       "    Null Deviance: 59.5449 on 76 degrees of freedom\n",
       "Residual Deviance: 11.4173 on 65.3503 degrees of freedom\n",
       "AIC: 96.8479 \n",
       "\n",
       "Number of Local Scoring Iterations: 2 \n",
       "\n",
       "Anova for Parametric Effects\n",
       "                        Df  Sum Sq Mean Sq F value    Pr(>F)    \n",
       "s(radiation, 2.78)    1.00  8.5290  8.5290  48.818 1.786e-09 ***\n",
       "s(temperature, 5.59)  1.00 25.2609 25.2609 144.588 < 2.2e-16 ***\n",
       "s(wind, 2.28)         1.00  2.6477  2.6477  15.155 0.0002351 ***\n",
       "Residuals            65.35 11.4173  0.1747                      \n",
       "---\n",
       "Signif. codes:  0 '***' 0.001 '**' 0.01 '*' 0.05 '.' 0.1 ' ' 1\n",
       "\n",
       "Anova for Nonparametric Effects\n",
       "                     Npar Df  Npar F     Pr(F)    \n",
       "(Intercept)                                       \n",
       "s(radiation, 2.78)       1.8  3.4106 0.0442356 *  \n",
       "s(temperature, 5.59)     4.6  2.7985 0.0270886 *  \n",
       "s(wind, 2.28)            1.3 13.0477 0.0002037 ***\n",
       "---\n",
       "Signif. codes:  0 '***' 0.001 '**' 0.01 '*' 0.05 '.' 0.1 ' ' 1"
      ]
     },
     "metadata": {},
     "output_type": "display_data"
    }
   ],
   "source": [
    "summary(gam1)"
   ]
  },
  {
   "cell_type": "markdown",
   "metadata": {},
   "source": [
    "From GAM plots above, we could see thet all three predictors' degrees of freedom are larger than one. Further, from the summary of GAM model above, the p values for all three predictors are less than 0.05, indicating that all of them are significant for the response variable - Ozone. Thus, we could conclude that all three predictors has non-linear relationship with the response variable.    "
   ]
  }
 ],
 "metadata": {
  "kernelspec": {
   "display_name": "R",
   "language": "R",
   "name": "ir"
  },
  "language_info": {
   "codemirror_mode": "r",
   "file_extension": ".r",
   "mimetype": "text/x-r-source",
   "name": "R",
   "pygments_lexer": "r",
   "version": "3.6.1"
  }
 },
 "nbformat": 4,
 "nbformat_minor": 4
}
