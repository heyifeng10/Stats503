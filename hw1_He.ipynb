{
 "cells": [
  {
   "cell_type": "code",
   "execution_count": 1,
   "metadata": {},
   "outputs": [
    {
     "name": "stderr",
     "output_type": "stream",
     "text": [
      "Warning message:\n",
      "\"package 'dplyr' was built under R version 3.6.2\"\n",
      "Attaching package: 'dplyr'\n",
      "\n",
      "The following objects are masked from 'package:stats':\n",
      "\n",
      "    filter, lag\n",
      "\n",
      "The following objects are masked from 'package:base':\n",
      "\n",
      "    intersect, setdiff, setequal, union\n",
      "\n",
      "Warning message:\n",
      "\"package 'tidyr' was built under R version 3.6.2\"Warning message:\n",
      "\"package 'ggplot2' was built under R version 3.6.2\""
     ]
    }
   ],
   "source": [
    "library(dplyr)\n",
    "library(tidyr)\n",
    "library(ggplot2)\n",
    "\n",
    "dat.train = read.csv(file = file.path(\"C:/Users/Vance He/Desktop/UMich/2020_WN/STAT503/hw/diabetes_train.csv\"))\n",
    "dat.test = read.csv(file = file.path(\"C:/Users/Vance He/Desktop/UMich/2020_WN/STAT503/hw/diabetes_test.csv\"))"
   ]
  },
  {
   "cell_type": "code",
   "execution_count": 2,
   "metadata": {},
   "outputs": [
    {
     "data": {
      "text/html": [
       "<ol class=list-inline>\n",
       "\t<li>428</li>\n",
       "\t<li>9</li>\n",
       "</ol>\n"
      ],
      "text/latex": [
       "\\begin{enumerate*}\n",
       "\\item 428\n",
       "\\item 9\n",
       "\\end{enumerate*}\n"
      ],
      "text/markdown": [
       "1. 428\n",
       "2. 9\n",
       "\n",
       "\n"
      ],
      "text/plain": [
       "[1] 428   9"
      ]
     },
     "metadata": {},
     "output_type": "display_data"
    },
    {
     "data": {
      "text/html": [
       "<ol class=list-inline>\n",
       "\t<li>108</li>\n",
       "\t<li>9</li>\n",
       "</ol>\n"
      ],
      "text/latex": [
       "\\begin{enumerate*}\n",
       "\\item 108\n",
       "\\item 9\n",
       "\\end{enumerate*}\n"
      ],
      "text/markdown": [
       "1. 108\n",
       "2. 9\n",
       "\n",
       "\n"
      ],
      "text/plain": [
       "[1] 108   9"
      ]
     },
     "metadata": {},
     "output_type": "display_data"
    }
   ],
   "source": [
    "dim(dat.train)\n",
    "dim(dat.test)"
   ]
  },
  {
   "cell_type": "markdown",
   "metadata": {},
   "source": [
    "Check missing rates and variable ranges.For some variables, it is impossible to be 0, so we regard those 0s as missing values.<br>"
   ]
  },
  {
   "cell_type": "code",
   "execution_count": 3,
   "metadata": {},
   "outputs": [
    {
     "data": {
      "text/plain": [
       "  Pregnancies        Glucose      BloodPressure    SkinThickness  \n",
       " Min.   : 0.000   Min.   :  0.0   Min.   :  0.00   Min.   : 0.00  \n",
       " 1st Qu.: 1.000   1st Qu.:103.0   1st Qu.: 64.00   1st Qu.: 0.00  \n",
       " Median : 3.000   Median :123.0   Median : 72.00   Median :22.50  \n",
       " Mean   : 4.054   Mean   :124.8   Mean   : 69.67   Mean   :20.07  \n",
       " 3rd Qu.: 7.000   3rd Qu.:145.0   3rd Qu.: 80.00   3rd Qu.:32.00  \n",
       " Max.   :17.000   Max.   :199.0   Max.   :114.00   Max.   :99.00  \n",
       "    Insulin            BMI        DiabetesPedigreeFunction      Age       \n",
       " Min.   :  0.00   Min.   : 0.00   Min.   :0.0780           Min.   :21.00  \n",
       " 1st Qu.:  0.00   1st Qu.:27.88   1st Qu.:0.2537           1st Qu.:25.00  \n",
       " Median :  0.00   Median :32.50   Median :0.4025           Median :31.00  \n",
       " Mean   : 84.07   Mean   :32.55   Mean   :0.5023           Mean   :34.33  \n",
       " 3rd Qu.:130.00   3rd Qu.:36.80   3rd Qu.:0.6750           3rd Qu.:41.25  \n",
       " Max.   :846.00   Max.   :59.40   Max.   :2.4200           Max.   :81.00  \n",
       "    Outcome     \n",
       " Min.   :0.000  \n",
       " 1st Qu.:0.000  \n",
       " Median :0.000  \n",
       " Mean   :0.479  \n",
       " 3rd Qu.:1.000  \n",
       " Max.   :1.000  "
      ]
     },
     "metadata": {},
     "output_type": "display_data"
    }
   ],
   "source": [
    "summary(dat.train)"
   ]
  },
  {
   "cell_type": "markdown",
   "metadata": {},
   "source": [
    "### Data exploration"
   ]
  },
  {
   "cell_type": "markdown",
   "metadata": {},
   "source": [
    "check the data distribution of train dataset"
   ]
  },
  {
   "cell_type": "code",
   "execution_count": 4,
   "metadata": {},
   "outputs": [
    {
     "data": {
      "image/png": "[encoded data removed]",
      "text/plain": [
       "Plot with title \"Histogram of dat.train$SkinThickness\""
      ]
     },
     "metadata": {},
     "output_type": "display_data"
    }
   ],
   "source": [
    "par(mfcol = c(2,3))\n",
    "hist(dat.train$Insulin)\n",
    "hist(dat.train$BMI)\n",
    "hist(dat.train$Glucose)\n",
    "hist(dat.train$BloodPressure)\n",
    "hist(dat.train$SkinThickness)"
   ]
  },
  {
   "cell_type": "markdown",
   "metadata": {},
   "source": [
    "Similarly,check the data distribution of test dataset"
   ]
  },
  {
   "cell_type": "code",
   "execution_count": 5,
   "metadata": {},
   "outputs": [
    {
     "data": {
      "image/png": "[encoded data removed]",
      "text/plain": [
       "Plot with title \"Histogram of dat.test$SkinThickness\""
      ]
     },
     "metadata": {},
     "output_type": "display_data"
    }
   ],
   "source": [
    "par(mfcol = c(2,3))\n",
    "hist(dat.test$Insulin)\n",
    "hist(dat.test$BMI)\n",
    "hist(dat.test$Glucose)\n",
    "hist(dat.test$BloodPressure)\n",
    "hist(dat.test$SkinThickness)"
   ]
  },
  {
   "cell_type": "markdown",
   "metadata": {},
   "source": [
    "From histograms above, we could see SkinThickness and Insulin have most 0 values, so we may exclude them in our model, and replace missing values with corresponding mean or median for other variables."
   ]
  },
  {
   "cell_type": "code",
   "execution_count": 6,
   "metadata": {},
   "outputs": [
    {
     "data": {
      "text/html": [
       "69.6728971962617"
      ],
      "text/latex": [
       "69.6728971962617"
      ],
      "text/markdown": [
       "69.6728971962617"
      ],
      "text/plain": [
       "[1] 69.6729"
      ]
     },
     "metadata": {},
     "output_type": "display_data"
    },
    {
     "data": {
      "text/html": [
       "72"
      ],
      "text/latex": [
       "72"
      ],
      "text/markdown": [
       "72"
      ],
      "text/plain": [
       "[1] 72"
      ]
     },
     "metadata": {},
     "output_type": "display_data"
    }
   ],
   "source": [
    "mean(dat.train$BloodPressure)\n",
    "median(dat.train$BloodPressure)"
   ]
  },
  {
   "cell_type": "code",
   "execution_count": 7,
   "metadata": {},
   "outputs": [],
   "source": [
    "dat.train$BloodPressure[dat.train$BloodPressure == 0] = median(dat.train$BloodPressure)\n",
    "dat.train$Glucose[dat.train$Glucose == 0] = mean(dat.train$Glucose)\n",
    "dat.train$BMI[dat.train$BMI == 0] = mean(dat.train$BMI)"
   ]
  },
  {
   "cell_type": "code",
   "execution_count": 8,
   "metadata": {},
   "outputs": [
    {
     "data": {
      "text/plain": [
       "  Pregnancies        Glucose      BloodPressure    SkinThickness  \n",
       " Min.   : 0.000   Min.   : 44.0   Min.   : 30.00   Min.   : 0.00  \n",
       " 1st Qu.: 1.000   1st Qu.:104.0   1st Qu.: 65.00   1st Qu.: 0.00  \n",
       " Median : 3.000   Median :123.0   Median : 72.00   Median :22.50  \n",
       " Mean   : 4.054   Mean   :125.6   Mean   : 72.87   Mean   :20.07  \n",
       " 3rd Qu.: 7.000   3rd Qu.:145.0   3rd Qu.: 80.00   3rd Qu.:32.00  \n",
       " Max.   :17.000   Max.   :199.0   Max.   :114.00   Max.   :99.00  \n",
       "    Insulin            BMI        DiabetesPedigreeFunction      Age       \n",
       " Min.   :  0.00   Min.   :18.20   Min.   :0.0780           Min.   :21.00  \n",
       " 1st Qu.:  0.00   1st Qu.:28.18   1st Qu.:0.2537           1st Qu.:25.00  \n",
       " Median :  0.00   Median :32.55   Median :0.4025           Median :31.00  \n",
       " Mean   : 84.07   Mean   :33.01   Mean   :0.5023           Mean   :34.33  \n",
       " 3rd Qu.:130.00   3rd Qu.:36.80   3rd Qu.:0.6750           3rd Qu.:41.25  \n",
       " Max.   :846.00   Max.   :59.40   Max.   :2.4200           Max.   :81.00  \n",
       "    Outcome     \n",
       " Min.   :0.000  \n",
       " 1st Qu.:0.000  \n",
       " Median :0.000  \n",
       " Mean   :0.479  \n",
       " 3rd Qu.:1.000  \n",
       " Max.   :1.000  "
      ]
     },
     "metadata": {},
     "output_type": "display_data"
    }
   ],
   "source": [
    "summary(dat.train)"
   ]
  },
  {
   "cell_type": "code",
   "execution_count": 9,
   "metadata": {},
   "outputs": [
    {
     "data": {
      "text/plain": [
       "  Pregnancies       Glucose      BloodPressure    SkinThickness  \n",
       " Min.   : 0.00   Min.   :  0.0   Min.   :  0.00   Min.   : 0.00  \n",
       " 1st Qu.: 1.00   1st Qu.:106.5   1st Qu.: 62.00   1st Qu.: 0.00  \n",
       " Median : 3.00   Median :129.0   Median : 70.00   Median :25.00  \n",
       " Mean   : 3.75   Mean   :130.4   Mean   : 66.52   Mean   :21.15  \n",
       " 3rd Qu.: 6.00   3rd Qu.:154.5   3rd Qu.: 78.50   3rd Qu.:33.00  \n",
       " Max.   :13.00   Max.   :198.0   Max.   :110.00   Max.   :46.00  \n",
       "    Insulin            BMI        DiabetesPedigreeFunction      Age       \n",
       " Min.   :  0.00   Min.   : 0.00   Min.   :0.0840           Min.   :21.00  \n",
       " 1st Qu.:  0.00   1st Qu.:28.40   1st Qu.:0.2517           1st Qu.:24.00  \n",
       " Median : 45.50   Median :32.60   Median :0.3925           Median :29.50  \n",
       " Mean   : 88.75   Mean   :33.04   Mean   :0.4748           Mean   :33.02  \n",
       " 3rd Qu.:151.25   3rd Qu.:37.05   3rd Qu.:0.6338           3rd Qu.:39.25  \n",
       " Max.   :480.00   Max.   :67.10   Max.   :1.8930           Max.   :69.00  \n",
       "    Outcome      \n",
       " Min.   :0.0000  \n",
       " 1st Qu.:0.0000  \n",
       " Median :1.0000  \n",
       " Mean   :0.5833  \n",
       " 3rd Qu.:1.0000  \n",
       " Max.   :1.0000  "
      ]
     },
     "metadata": {},
     "output_type": "display_data"
    }
   ],
   "source": [
    "#do same thing to test dataset\n",
    "summary(dat.test)"
   ]
  },
  {
   "cell_type": "code",
   "execution_count": 10,
   "metadata": {},
   "outputs": [],
   "source": [
    "dat.test$BloodPressure[dat.test$BloodPressure == 0] = median(dat.train$BloodPressure)\n",
    "dat.test$Glucose[dat.test$Glucose == 0] = mean(dat.train$Glucose)\n",
    "dat.test$BMI[dat.test$BMI == 0] = mean(dat.train$BMI)"
   ]
  },
  {
   "cell_type": "code",
   "execution_count": 11,
   "metadata": {},
   "outputs": [
    {
     "data": {
      "text/html": [
       "<ol class=list-inline>\n",
       "\t<li>428</li>\n",
       "\t<li>9</li>\n",
       "</ol>\n"
      ],
      "text/latex": [
       "\\begin{enumerate*}\n",
       "\\item 428\n",
       "\\item 9\n",
       "\\end{enumerate*}\n"
      ],
      "text/markdown": [
       "1. 428\n",
       "2. 9\n",
       "\n",
       "\n"
      ],
      "text/plain": [
       "[1] 428   9"
      ]
     },
     "metadata": {},
     "output_type": "display_data"
    },
    {
     "data": {
      "text/html": [
       "<ol class=list-inline>\n",
       "\t<li>108</li>\n",
       "\t<li>9</li>\n",
       "</ol>\n"
      ],
      "text/latex": [
       "\\begin{enumerate*}\n",
       "\\item 108\n",
       "\\item 9\n",
       "\\end{enumerate*}\n"
      ],
      "text/markdown": [
       "1. 108\n",
       "2. 9\n",
       "\n",
       "\n"
      ],
      "text/plain": [
       "[1] 108   9"
      ]
     },
     "metadata": {},
     "output_type": "display_data"
    }
   ],
   "source": [
    "# new dataset dimension\n",
    "dim(dat.train)\n",
    "dim(dat.test)"
   ]
  },
  {
   "cell_type": "markdown",
   "metadata": {},
   "source": [
    "See correlations"
   ]
  },
  {
   "cell_type": "code",
   "execution_count": 12,
   "metadata": {},
   "outputs": [
    {
     "data": {
      "text/html": [
       "<table>\n",
       "<thead><tr><th scope=col>Pregnancies</th><th scope=col>Glucose</th><th scope=col>BloodPressure</th><th scope=col>SkinThickness</th><th scope=col>Insulin</th><th scope=col>BMI</th><th scope=col>DiabetesPedigreeFunction</th><th scope=col>Age</th><th scope=col>Outcome</th></tr></thead>\n",
       "<tbody>\n",
       "\t<tr><td>0.2580393</td><td>0.4670871</td><td>0.1656376</td><td>0.1010146</td><td>0.1134862</td><td>0.3285728</td><td>0.1700104</td><td>0.2691153</td><td>1        </td></tr>\n",
       "</tbody>\n",
       "</table>\n"
      ],
      "text/latex": [
       "\\begin{tabular}{lllllllll}\n",
       " Pregnancies & Glucose & BloodPressure & SkinThickness & Insulin & BMI & DiabetesPedigreeFunction & Age & Outcome\\\\\n",
       "\\hline\n",
       "\t 0.2580393 & 0.4670871 & 0.1656376 & 0.1010146 & 0.1134862 & 0.3285728 & 0.1700104 & 0.2691153 & 1        \\\\\n",
       "\\end{tabular}\n"
      ],
      "text/markdown": [
       "\n",
       "| Pregnancies | Glucose | BloodPressure | SkinThickness | Insulin | BMI | DiabetesPedigreeFunction | Age | Outcome |\n",
       "|---|---|---|---|---|---|---|---|---|\n",
       "| 0.2580393 | 0.4670871 | 0.1656376 | 0.1010146 | 0.1134862 | 0.3285728 | 0.1700104 | 0.2691153 | 1         |\n",
       "\n"
      ],
      "text/plain": [
       "     Pregnancies Glucose   BloodPressure SkinThickness Insulin   BMI      \n",
       "[1,] 0.2580393   0.4670871 0.1656376     0.1010146     0.1134862 0.3285728\n",
       "     DiabetesPedigreeFunction Age       Outcome\n",
       "[1,] 0.1700104                0.2691153 1      "
      ]
     },
     "metadata": {},
     "output_type": "display_data"
    },
    {
     "data": {
      "text/html": [
       "<table>\n",
       "<thead><tr><th scope=col>Pregnancies</th><th scope=col>Glucose</th><th scope=col>BloodPressure</th><th scope=col>SkinThickness</th><th scope=col>Insulin</th><th scope=col>BMI</th><th scope=col>DiabetesPedigreeFunction</th><th scope=col>Age</th><th scope=col>Outcome</th></tr></thead>\n",
       "<tbody>\n",
       "\t<tr><td>0.2432467</td><td>0.5692847</td><td>0.3359822</td><td>0.1624546</td><td>0.1748755</td><td>0.3740483</td><td>0.1231927</td><td>0.221376 </td><td>1        </td></tr>\n",
       "</tbody>\n",
       "</table>\n"
      ],
      "text/latex": [
       "\\begin{tabular}{lllllllll}\n",
       " Pregnancies & Glucose & BloodPressure & SkinThickness & Insulin & BMI & DiabetesPedigreeFunction & Age & Outcome\\\\\n",
       "\\hline\n",
       "\t 0.2432467 & 0.5692847 & 0.3359822 & 0.1624546 & 0.1748755 & 0.3740483 & 0.1231927 & 0.221376  & 1        \\\\\n",
       "\\end{tabular}\n"
      ],
      "text/markdown": [
       "\n",
       "| Pregnancies | Glucose | BloodPressure | SkinThickness | Insulin | BMI | DiabetesPedigreeFunction | Age | Outcome |\n",
       "|---|---|---|---|---|---|---|---|---|\n",
       "| 0.2432467 | 0.5692847 | 0.3359822 | 0.1624546 | 0.1748755 | 0.3740483 | 0.1231927 | 0.221376  | 1         |\n",
       "\n"
      ],
      "text/plain": [
       "     Pregnancies Glucose   BloodPressure SkinThickness Insulin   BMI      \n",
       "[1,] 0.2432467   0.5692847 0.3359822     0.1624546     0.1748755 0.3740483\n",
       "     DiabetesPedigreeFunction Age      Outcome\n",
       "[1,] 0.1231927                0.221376 1      "
      ]
     },
     "metadata": {},
     "output_type": "display_data"
    }
   ],
   "source": [
    "cor(dat.train$Outcome,dat.train)\n",
    "cor(dat.test$Outcome,dat.test)"
   ]
  },
  {
   "cell_type": "markdown",
   "metadata": {},
   "source": [
    "### KNN modeling"
   ]
  },
  {
   "cell_type": "code",
   "execution_count": 13,
   "metadata": {},
   "outputs": [],
   "source": [
    "library(class)"
   ]
  },
  {
   "cell_type": "code",
   "execution_count": 14,
   "metadata": {},
   "outputs": [],
   "source": [
    "train_label = dat.train %>% .$Outcome\n",
    "train_x = dat.train %>% select(\"Pregnancies\",\"Glucose\",\"BloodPressure\",\"BMI\",\"Age\",\"DiabetesPedigreeFunction\")\n",
    "\n",
    "test_label = dat.test %>% .$Outcome\n",
    "test_x = dat.test %>% select(\"Pregnancies\",\"Glucose\",\"BloodPressure\",\"BMI\",\"Age\",\"DiabetesPedigreeFunction\")"
   ]
  },
  {
   "cell_type": "code",
   "execution_count": 15,
   "metadata": {},
   "outputs": [],
   "source": [
    "mean_train = colMeans(train_x)\n",
    "std_train = sqrt(diag(var(train_x)))\n",
    "# training_data\n",
    "train_x = scale(train_x,center = mean_train,scale = std_train)\n",
    "# test data\n",
    "test_x = scale(test_x,center = mean_train,scale = std_train)"
   ]
  },
  {
   "cell_type": "code",
   "execution_count": 16,
   "metadata": {},
   "outputs": [],
   "source": [
    "set.seed(1)\n",
    "pred_train = knn(train_x,train_x,train_label,k=1)\n",
    "pred_test = knn(train_x,test_x,train_label,k=1)"
   ]
  },
  {
   "cell_type": "markdown",
   "metadata": {},
   "source": [
    "The table() function can be used to produce a confusion matrix in order to determine how many observations were correctly or incorrectly classified."
   ]
  },
  {
   "cell_type": "code",
   "execution_count": 17,
   "metadata": {},
   "outputs": [
    {
     "data": {
      "text/plain": [
       "          train_label\n",
       "pred_train   0   1\n",
       "         0 223   0\n",
       "         1   0 205"
      ]
     },
     "metadata": {},
     "output_type": "display_data"
    }
   ],
   "source": [
    "# Pull out the true responses for the test data\n",
    "table(pred_train, train_label)"
   ]
  },
  {
   "cell_type": "code",
   "execution_count": 18,
   "metadata": {},
   "outputs": [
    {
     "data": {
      "text/html": [
       "0"
      ],
      "text/latex": [
       "0"
      ],
      "text/markdown": [
       "0"
      ],
      "text/plain": [
       "[1] 0"
      ]
     },
     "metadata": {},
     "output_type": "display_data"
    }
   ],
   "source": [
    "mean(pred_train != train_label)"
   ]
  },
  {
   "cell_type": "code",
   "execution_count": 19,
   "metadata": {},
   "outputs": [
    {
     "data": {
      "text/plain": [
       "         test_label\n",
       "pred_test  0  1\n",
       "        0 31 24\n",
       "        1 14 39"
      ]
     },
     "metadata": {},
     "output_type": "display_data"
    }
   ],
   "source": [
    "table(pred_test, test_label)"
   ]
  },
  {
   "cell_type": "code",
   "execution_count": 20,
   "metadata": {},
   "outputs": [
    {
     "data": {
      "text/html": [
       "0.351851851851852"
      ],
      "text/latex": [
       "0.351851851851852"
      ],
      "text/markdown": [
       "0.351851851851852"
      ],
      "text/plain": [
       "[1] 0.3518519"
      ]
     },
     "metadata": {},
     "output_type": "display_data"
    }
   ],
   "source": [
    "mean(pred_test != test_label)"
   ]
  },
  {
   "cell_type": "markdown",
   "metadata": {},
   "source": [
    "The testing results using K = 1 are not very good compared to training errors, which means we have strong overfit. We further seek a best K.<br>"
   ]
  },
  {
   "cell_type": "code",
   "execution_count": 21,
   "metadata": {},
   "outputs": [],
   "source": [
    "k_range = c(1,2,3,4,5,6,7,8,9,10,11,12,13,14,15,16,17,18,19,20)\n",
    "train_error = c()\n",
    "test_error = c()\n",
    "for(i in 1:length(k_range)){\n",
    "    set.seed(18)\n",
    "    pred_train = knn(train_x,train_x,train_label,k=k_range[i])\n",
    "    pred_test = knn(train_x,test_x,train_label,k=k_range[i])\n",
    "    train_error[i] = mean(pred_train != train_label)\n",
    "    test_error[i] = mean(pred_test != test_label)\n",
    "}"
   ]
  },
  {
   "cell_type": "code",
   "execution_count": 22,
   "metadata": {
    "scrolled": true
   },
   "outputs": [
    {
     "data": {
      "image/png": "[encoded data removed]",
      "text/plain": [
       "plot without title"
      ]
     },
     "metadata": {},
     "output_type": "display_data"
    }
   ],
   "source": [
    "errors = data.frame(train_error, test_error, k_range)\n",
    "ggplot(errors,aes(x = 1/k_range)) +\n",
    "geom_line(aes(y=train_error),col = \"red\")+geom_point(aes(y=train_error),col = \"red\")+\n",
    "geom_line(aes(y=test_error),col = \"blue\")+geom_point(aes(y=test_error),col = \"blue\")+\n",
    "ylab(\"Error Rate\") + xlab(\"1/K\") + ggtitle(\"Training and test error rate for KNN\")+theme_minimal()\n"
   ]
  },
  {
   "cell_type": "code",
   "execution_count": 23,
   "metadata": {},
   "outputs": [],
   "source": [
    "train_error = format(round(train_error,2),nsmall = 2)"
   ]
  },
  {
   "cell_type": "code",
   "execution_count": 24,
   "metadata": {},
   "outputs": [
    {
     "data": {
      "text/html": [
       "<ol class=list-inline>\n",
       "\t<li>'0.00'</li>\n",
       "\t<li>'0.18'</li>\n",
       "\t<li>'0.14'</li>\n",
       "\t<li>'0.19'</li>\n",
       "\t<li>'0.19'</li>\n",
       "\t<li>'0.19'</li>\n",
       "\t<li>'0.19'</li>\n",
       "\t<li>'0.18'</li>\n",
       "\t<li>'0.20'</li>\n",
       "\t<li>'0.20'</li>\n",
       "\t<li>'0.22'</li>\n",
       "\t<li>'0.22'</li>\n",
       "\t<li>'0.24'</li>\n",
       "\t<li>'0.24'</li>\n",
       "\t<li>'0.23'</li>\n",
       "\t<li>'0.24'</li>\n",
       "\t<li>'0.25'</li>\n",
       "\t<li>'0.24'</li>\n",
       "\t<li>'0.25'</li>\n",
       "\t<li>'0.26'</li>\n",
       "</ol>\n"
      ],
      "text/latex": [
       "\\begin{enumerate*}\n",
       "\\item '0.00'\n",
       "\\item '0.18'\n",
       "\\item '0.14'\n",
       "\\item '0.19'\n",
       "\\item '0.19'\n",
       "\\item '0.19'\n",
       "\\item '0.19'\n",
       "\\item '0.18'\n",
       "\\item '0.20'\n",
       "\\item '0.20'\n",
       "\\item '0.22'\n",
       "\\item '0.22'\n",
       "\\item '0.24'\n",
       "\\item '0.24'\n",
       "\\item '0.23'\n",
       "\\item '0.24'\n",
       "\\item '0.25'\n",
       "\\item '0.24'\n",
       "\\item '0.25'\n",
       "\\item '0.26'\n",
       "\\end{enumerate*}\n"
      ],
      "text/markdown": [
       "1. '0.00'\n",
       "2. '0.18'\n",
       "3. '0.14'\n",
       "4. '0.19'\n",
       "5. '0.19'\n",
       "6. '0.19'\n",
       "7. '0.19'\n",
       "8. '0.18'\n",
       "9. '0.20'\n",
       "10. '0.20'\n",
       "11. '0.22'\n",
       "12. '0.22'\n",
       "13. '0.24'\n",
       "14. '0.24'\n",
       "15. '0.23'\n",
       "16. '0.24'\n",
       "17. '0.25'\n",
       "18. '0.24'\n",
       "19. '0.25'\n",
       "20. '0.26'\n",
       "\n",
       "\n"
      ],
      "text/plain": [
       " [1] \"0.00\" \"0.18\" \"0.14\" \"0.19\" \"0.19\" \"0.19\" \"0.19\" \"0.18\" \"0.20\" \"0.20\"\n",
       "[11] \"0.22\" \"0.22\" \"0.24\" \"0.24\" \"0.23\" \"0.24\" \"0.25\" \"0.24\" \"0.25\" \"0.26\""
      ]
     },
     "metadata": {},
     "output_type": "display_data"
    }
   ],
   "source": [
    "train_error"
   ]
  },
  {
   "cell_type": "code",
   "execution_count": 25,
   "metadata": {},
   "outputs": [],
   "source": [
    "test_error = format(round(test_error,2),nsmall = 2)"
   ]
  },
  {
   "cell_type": "code",
   "execution_count": 26,
   "metadata": {},
   "outputs": [],
   "source": [
    "result = data.frame(\"K\" = k_range, \"Train Error\" = train_error, \"Test Error\" = test_error)"
   ]
  },
  {
   "cell_type": "code",
   "execution_count": 27,
   "metadata": {},
   "outputs": [
    {
     "data": {
      "text/html": [
       "<table>\n",
       "<tbody>\n",
       "\t<tr><th scope=row>K</th><td> 1  </td><td> 2  </td><td> 3  </td><td> 4  </td><td> 5  </td><td> 6  </td><td> 7  </td><td> 8  </td><td> 9  </td><td>10  </td><td>11  </td><td>12  </td><td>13  </td><td>14  </td><td>15  </td><td>16  </td><td>17  </td><td>18  </td><td>19  </td><td>20  </td></tr>\n",
       "\t<tr><th scope=row>Train.Error</th><td>0.00</td><td>0.18</td><td>0.14</td><td>0.19</td><td>0.19</td><td>0.19</td><td>0.19</td><td>0.18</td><td>0.20</td><td>0.20</td><td>0.22</td><td>0.22</td><td>0.24</td><td>0.24</td><td>0.23</td><td>0.24</td><td>0.25</td><td>0.24</td><td>0.25</td><td>0.26</td></tr>\n",
       "\t<tr><th scope=row>Test.Error</th><td>0.35</td><td>0.33</td><td>0.29</td><td>0.28</td><td>0.25</td><td>0.23</td><td>0.25</td><td>0.28</td><td>0.26</td><td>0.27</td><td>0.25</td><td>0.26</td><td>0.31</td><td>0.27</td><td>0.31</td><td>0.30</td><td>0.29</td><td>0.30</td><td>0.30</td><td>0.29</td></tr>\n",
       "</tbody>\n",
       "</table>\n"
      ],
      "text/latex": [
       "\\begin{tabular}{r|llllllllllllllllllll}\n",
       "\tK &  1   &  2   &  3   &  4   &  5   &  6   &  7   &  8   &  9   & 10   & 11   & 12   & 13   & 14   & 15   & 16   & 17   & 18   & 19   & 20  \\\\\n",
       "\tTrain.Error & 0.00 & 0.18 & 0.14 & 0.19 & 0.19 & 0.19 & 0.19 & 0.18 & 0.20 & 0.20 & 0.22 & 0.22 & 0.24 & 0.24 & 0.23 & 0.24 & 0.25 & 0.24 & 0.25 & 0.26\\\\\n",
       "\tTest.Error & 0.35 & 0.33 & 0.29 & 0.28 & 0.25 & 0.23 & 0.25 & 0.28 & 0.26 & 0.27 & 0.25 & 0.26 & 0.31 & 0.27 & 0.31 & 0.30 & 0.29 & 0.30 & 0.30 & 0.29\\\\\n",
       "\\end{tabular}\n"
      ],
      "text/markdown": [
       "\n",
       "| K |  1   |  2   |  3   |  4   |  5   |  6   |  7   |  8   |  9   | 10   | 11   | 12   | 13   | 14   | 15   | 16   | 17   | 18   | 19   | 20   |\n",
       "| Train.Error | 0.00 | 0.18 | 0.14 | 0.19 | 0.19 | 0.19 | 0.19 | 0.18 | 0.20 | 0.20 | 0.22 | 0.22 | 0.24 | 0.24 | 0.23 | 0.24 | 0.25 | 0.24 | 0.25 | 0.26 |\n",
       "| Test.Error | 0.35 | 0.33 | 0.29 | 0.28 | 0.25 | 0.23 | 0.25 | 0.28 | 0.26 | 0.27 | 0.25 | 0.26 | 0.31 | 0.27 | 0.31 | 0.30 | 0.29 | 0.30 | 0.30 | 0.29 |\n",
       "\n"
      ],
      "text/plain": [
       "            [,1] [,2] [,3] [,4] [,5] [,6] [,7] [,8] [,9] [,10] [,11] [,12]\n",
       "K            1    2    3    4    5    6    7    8    9   10    11    12   \n",
       "Train.Error 0.00 0.18 0.14 0.19 0.19 0.19 0.19 0.18 0.20 0.20  0.22  0.22 \n",
       "Test.Error  0.35 0.33 0.29 0.28 0.25 0.23 0.25 0.28 0.26 0.27  0.25  0.26 \n",
       "            [,13] [,14] [,15] [,16] [,17] [,18] [,19] [,20]\n",
       "K           13    14    15    16    17    18    19    20   \n",
       "Train.Error 0.24  0.24  0.23  0.24  0.25  0.24  0.25  0.26 \n",
       "Test.Error  0.31  0.27  0.31  0.30  0.29  0.30  0.30  0.29 "
      ]
     },
     "metadata": {},
     "output_type": "display_data"
    }
   ],
   "source": [
    "t(result[,1:ncol(result)])"
   ]
  }
 ],
 "metadata": {
  "kernelspec": {
   "display_name": "R",
   "language": "R",
   "name": "ir"
  },
  "language_info": {
   "codemirror_mode": "r",
   "file_extension": ".r",
   "mimetype": "text/x-r-source",
   "name": "R",
   "pygments_lexer": "r",
   "version": "3.6.1"
  }
 },
 "nbformat": 4,
 "nbformat_minor": 2
}
