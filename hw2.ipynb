{
 "cells": [
  {
   "cell_type": "markdown",
   "metadata": {},
   "source": [
    "**Problem 1**"
   ]
  },
  {
   "cell_type": "markdown",
   "metadata": {},
   "source": [
    "**a)**\n",
    "\n",
    "Explore the data graphically in order to investigate the association\n",
    "between Type and the other features. Which of the other\n",
    "features seem most likely to be useful in predicting Type? Scatterplots\n",
    "and boxplots may be useful tools to answer this question.\n",
    "Describe your findings."
   ]
  },
  {
   "cell_type": "code",
   "execution_count": 15,
   "metadata": {},
   "outputs": [],
   "source": [
    "wine.train = read.csv(file = file.path(\"C:/Users/Vance He/Desktop/UMich/2020_WN/STATS503/hw/hw2/wine_train.csv\"))\n",
    "wine.test = read.csv(file = file.path(\"C:/Users/Vance He/Desktop/UMich/2020_WN/STATS503/hw/hw2/wine_test.csv\"))"
   ]
  },
  {
   "cell_type": "code",
   "execution_count": 16,
   "metadata": {},
   "outputs": [
    {
     "data": {
      "text/html": [
       "<ol class=list-inline>\n",
       "\t<li>123</li>\n",
       "\t<li>14</li>\n",
       "</ol>\n"
      ],
      "text/latex": [
       "\\begin{enumerate*}\n",
       "\\item 123\n",
       "\\item 14\n",
       "\\end{enumerate*}\n"
      ],
      "text/markdown": [
       "1. 123\n",
       "2. 14\n",
       "\n",
       "\n"
      ],
      "text/plain": [
       "[1] 123  14"
      ]
     },
     "metadata": {},
     "output_type": "display_data"
    },
    {
     "data": {
      "text/html": [
       "<ol class=list-inline>\n",
       "\t<li>55</li>\n",
       "\t<li>14</li>\n",
       "</ol>\n"
      ],
      "text/latex": [
       "\\begin{enumerate*}\n",
       "\\item 55\n",
       "\\item 14\n",
       "\\end{enumerate*}\n"
      ],
      "text/markdown": [
       "1. 55\n",
       "2. 14\n",
       "\n",
       "\n"
      ],
      "text/plain": [
       "[1] 55 14"
      ]
     },
     "metadata": {},
     "output_type": "display_data"
    }
   ],
   "source": [
    "dim(wine.train)\n",
    "dim(wine.test)"
   ]
  },
  {
   "cell_type": "code",
   "execution_count": 17,
   "metadata": {},
   "outputs": [
    {
     "data": {
      "image/png": "[encoded data removed]",
      "text/plain": [
       "Plot with title \"Proline\""
      ]
     },
     "metadata": {},
     "output_type": "display_data"
    }
   ],
   "source": [
    "par(mfcol = c(4,4))\n",
    "col = c(colnames(wine.train)[2:14])\n",
    "for(i in 1:length(col)){\n",
    "    plot(x=wine.train$Type, y=wine.train[,i+1], main = col[i], xlab=\"type\", ylab=col[i], pch=19)\n",
    "}"
   ]
  },
  {
   "cell_type": "code",
   "execution_count": 18,
   "metadata": {},
   "outputs": [
    {
     "data": {
      "text/html": [
       "<table>\n",
       "<thead><tr><th scope=col>Type</th><th scope=col>Alcohol</th><th scope=col>Malic</th><th scope=col>Ash</th><th scope=col>Alcalinity</th><th scope=col>Magnesium</th><th scope=col>Phenols</th><th scope=col>Flavanoids</th><th scope=col>Nonflavanoids</th><th scope=col>Proanthocyanins</th><th scope=col>Color</th><th scope=col>Hue</th><th scope=col>Dilution</th><th scope=col>Proline</th></tr></thead>\n",
       "<tbody>\n",
       "\t<tr><td>1         </td><td>-0.3768907</td><td>0.4921756 </td><td>0.01224414</td><td>0.5563797 </td><td>-0.2462753</td><td>-0.7259672</td><td>-0.8413666</td><td>0.4836222 </td><td>-0.5125264</td><td>0.2517423 </td><td>-0.6551385</td><td>-0.7771772</td><td>-0.6554285</td></tr>\n",
       "</tbody>\n",
       "</table>\n"
      ],
      "text/latex": [
       "\\begin{tabular}{llllllllllllll}\n",
       " Type & Alcohol & Malic & Ash & Alcalinity & Magnesium & Phenols & Flavanoids & Nonflavanoids & Proanthocyanins & Color & Hue & Dilution & Proline\\\\\n",
       "\\hline\n",
       "\t 1          & -0.3768907 & 0.4921756  & 0.01224414 & 0.5563797  & -0.2462753 & -0.7259672 & -0.8413666 & 0.4836222  & -0.5125264 & 0.2517423  & -0.6551385 & -0.7771772 & -0.6554285\\\\\n",
       "\\end{tabular}\n"
      ],
      "text/markdown": [
       "\n",
       "| Type | Alcohol | Malic | Ash | Alcalinity | Magnesium | Phenols | Flavanoids | Nonflavanoids | Proanthocyanins | Color | Hue | Dilution | Proline |\n",
       "|---|---|---|---|---|---|---|---|---|---|---|---|---|---|\n",
       "| 1          | -0.3768907 | 0.4921756  | 0.01224414 | 0.5563797  | -0.2462753 | -0.7259672 | -0.8413666 | 0.4836222  | -0.5125264 | 0.2517423  | -0.6551385 | -0.7771772 | -0.6554285 |\n",
       "\n"
      ],
      "text/plain": [
       "     Type Alcohol    Malic     Ash        Alcalinity Magnesium  Phenols   \n",
       "[1,] 1    -0.3768907 0.4921756 0.01224414 0.5563797  -0.2462753 -0.7259672\n",
       "     Flavanoids Nonflavanoids Proanthocyanins Color     Hue        Dilution  \n",
       "[1,] -0.8413666 0.4836222     -0.5125264      0.2517423 -0.6551385 -0.7771772\n",
       "     Proline   \n",
       "[1,] -0.6554285"
      ]
     },
     "metadata": {},
     "output_type": "display_data"
    }
   ],
   "source": [
    "cor(wine.train$Type, wine.train)"
   ]
  },
  {
   "cell_type": "code",
   "execution_count": 19,
   "metadata": {},
   "outputs": [],
   "source": [
    "wine.train$Type = factor(wine.train$Type)\n",
    "levels(wine.train$Type)=c(\"type1\",\"type2\",\"type3\")\n",
    "wine.test$Type = factor(wine.test$Type)\n",
    "levels(wine.test$Type)=c(\"type1\",\"type2\",\"type3\")"
   ]
  },
  {
   "cell_type": "code",
   "execution_count": 20,
   "metadata": {},
   "outputs": [
    {
     "data": {
      "text/plain": [
       "    Type       Alcohol          Malic            Ash          Alcalinity   \n",
       " type1:41   Min.   :11.45   Min.   :0.890   Min.   :1.360   Min.   :10.60  \n",
       " type2:49   1st Qu.:12.37   1st Qu.:1.655   1st Qu.:2.225   1st Qu.:17.05  \n",
       " type3:33   Median :13.05   Median :1.900   Median :2.380   Median :19.50  \n",
       "            Mean   :13.05   Mean   :2.387   Mean   :2.377   Mean   :19.60  \n",
       "            3rd Qu.:13.72   3rd Qu.:3.170   3rd Qu.:2.600   3rd Qu.:21.55  \n",
       "            Max.   :14.83   Max.   :5.800   Max.   :3.230   Max.   :30.00  \n",
       "   Magnesium         Phenols        Flavanoids    Nonflavanoids  \n",
       " Min.   : 78.00   Min.   :0.980   Min.   :0.340   Min.   :0.140  \n",
       " 1st Qu.: 88.00   1st Qu.:1.770   1st Qu.:1.095   1st Qu.:0.270  \n",
       " Median : 97.00   Median :2.400   Median :2.110   Median :0.340  \n",
       " Mean   : 99.11   Mean   :2.293   Mean   :2.040   Mean   :0.362  \n",
       " 3rd Qu.:106.50   3rd Qu.:2.800   3rd Qu.:2.895   3rd Qu.:0.430  \n",
       " Max.   :139.00   Max.   :3.880   Max.   :5.080   Max.   :0.660  \n",
       " Proanthocyanins     Color             Hue            Dilution    \n",
       " Min.   :0.410   Min.   : 1.280   Min.   :0.5400   Min.   :1.270  \n",
       " 1st Qu.:1.235   1st Qu.: 3.260   1st Qu.:0.7750   1st Qu.:1.890  \n",
       " Median :1.550   Median : 4.900   Median :0.9600   Median :2.780  \n",
       " Mean   :1.572   Mean   : 5.122   Mean   :0.9496   Mean   :2.614  \n",
       " 3rd Qu.:1.955   3rd Qu.: 6.250   3rd Qu.:1.1200   3rd Qu.:3.205  \n",
       " Max.   :2.960   Max.   :13.000   Max.   :1.4200   Max.   :4.000  \n",
       "    Proline      \n",
       " Min.   : 278.0  \n",
       " 1st Qu.: 495.0  \n",
       " Median : 650.0  \n",
       " Mean   : 745.3  \n",
       " 3rd Qu.:1002.5  \n",
       " Max.   :1547.0  "
      ]
     },
     "metadata": {},
     "output_type": "display_data"
    }
   ],
   "source": [
    "summary(wine.train)"
   ]
  },
  {
   "cell_type": "code",
   "execution_count": 21,
   "metadata": {},
   "outputs": [
    {
     "data": {
      "image/png": "[encoded data removed]",
      "text/plain": [
       "Plot with title \"Proline\""
      ]
     },
     "metadata": {},
     "output_type": "display_data"
    }
   ],
   "source": [
    "par(mfcol = c(4,4))\n",
    "col = c(colnames(wine.train)[2:14])\n",
    "for(i in 1:length(col)){\n",
    "    plot(wine.train$Type, wine.train[,i+1], main = col[i], xlab=\"type\", ylab=col[i], pch=19)\n",
    "}"
   ]
  },
  {
   "cell_type": "markdown",
   "metadata": {},
   "source": [
    "**b)**\n",
    "\n",
    "Perform LDA, QDA and Naive Bayes on the training data in order to predict Type. What are the test errors of the models obtained?"
   ]
  },
  {
   "cell_type": "code",
   "execution_count": 106,
   "metadata": {},
   "outputs": [],
   "source": [
    "library(MASS)\n",
    "library(e1071)\n",
    "mod_lda = lda(Type ~ Alcohol + Malic + Ash + Alcalinity \n",
    "              + Magnesium + Phenols + Flavanoids + Nonflavanoids + Proanthocyanins \n",
    "              + Color + Hue + Dilution + Proline, data = wine.train) \n",
    "mod_qda = qda(Type ~ Alcohol + Malic + Ash + Alcalinity \n",
    "              + Magnesium + Phenols + Flavanoids + Nonflavanoids + Proanthocyanins \n",
    "              + Color + Hue + Dilution + Proline, data = wine.train)\n",
    "mod_nb = naiveBayes(Type ~ Alcohol + Malic + Ash + Alcalinity \n",
    "              + Magnesium + Phenols + Flavanoids + Nonflavanoids + Proanthocyanins \n",
    "              + Color + Hue + Dilution + Proline, data = wine.train)"
   ]
  },
  {
   "cell_type": "code",
   "execution_count": 22,
   "metadata": {},
   "outputs": [
    {
     "name": "stderr",
     "output_type": "stream",
     "text": [
      "Warning message:\n",
      "\"package 'e1071' was built under R version 3.6.2\""
     ]
    }
   ],
   "source": [
    "library(MASS)\n",
    "library(e1071)\n",
    "mod_lda = lda(Type ~ Alcohol + Malic + Alcalinity \n",
    "              + Phenols + Flavanoids + Nonflavanoids + Proanthocyanins \n",
    "              + Hue + Dilution + Proline, data = wine.train) \n",
    "mod_qda = qda(Type ~ Alcohol + Malic + Alcalinity \n",
    "              + Phenols + Flavanoids + Nonflavanoids + Proanthocyanins \n",
    "              + Hue + Dilution + Proline, data = wine.train)\n",
    "mod_nb = naiveBayes(Type ~ Alcohol + Malic + Alcalinity \n",
    "              + Phenols + Flavanoids + Nonflavanoids + Proanthocyanins \n",
    "              + Hue + Dilution + Proline, data = wine.train)"
   ]
  },
  {
   "cell_type": "markdown",
   "metadata": {},
   "source": [
    "**calculate test errors**"
   ]
  },
  {
   "cell_type": "code",
   "execution_count": 23,
   "metadata": {},
   "outputs": [
    {
     "data": {
      "text/html": [
       "0.00813008130081301"
      ],
      "text/latex": [
       "0.00813008130081301"
      ],
      "text/markdown": [
       "0.00813008130081301"
      ],
      "text/plain": [
       "[1] 0.008130081"
      ]
     },
     "metadata": {},
     "output_type": "display_data"
    },
    {
     "data": {
      "text/html": [
       "0.0545454545454545"
      ],
      "text/latex": [
       "0.0545454545454545"
      ],
      "text/markdown": [
       "0.0545454545454545"
      ],
      "text/plain": [
       "[1] 0.05454545"
      ]
     },
     "metadata": {},
     "output_type": "display_data"
    }
   ],
   "source": [
    "wine_lda_train_predict = predict(mod_lda, wine.train)$class\n",
    "wine_lda_test_predict = predict(mod_lda, wine.test)$class\n",
    "train_lda_err = mean(wine_lda_train_predict != wine.train$Type)\n",
    "test_lda_err = mean(wine_lda_test_predict != wine.test$Type)\n",
    "train_lda_err\n",
    "test_lda_err"
   ]
  },
  {
   "cell_type": "code",
   "execution_count": 24,
   "metadata": {},
   "outputs": [
    {
     "data": {
      "text/html": [
       "0"
      ],
      "text/latex": [
       "0"
      ],
      "text/markdown": [
       "0"
      ],
      "text/plain": [
       "[1] 0"
      ]
     },
     "metadata": {},
     "output_type": "display_data"
    },
    {
     "data": {
      "text/html": [
       "0.0363636363636364"
      ],
      "text/latex": [
       "0.0363636363636364"
      ],
      "text/markdown": [
       "0.0363636363636364"
      ],
      "text/plain": [
       "[1] 0.03636364"
      ]
     },
     "metadata": {},
     "output_type": "display_data"
    }
   ],
   "source": [
    "wine_qda_train_predict = predict(mod_qda, wine.train)$class\n",
    "wine_qda_test_predict = predict(mod_qda, wine.test)$class\n",
    "train_qda_err = mean(wine_qda_train_predict != wine.train$Type)\n",
    "test_qda_err = mean(wine_qda_test_predict != wine.test$Type)\n",
    "train_qda_err\n",
    "test_qda_err"
   ]
  },
  {
   "cell_type": "code",
   "execution_count": 26,
   "metadata": {},
   "outputs": [
    {
     "data": {
      "text/html": [
       "0.040650406504065"
      ],
      "text/latex": [
       "0.040650406504065"
      ],
      "text/markdown": [
       "0.040650406504065"
      ],
      "text/plain": [
       "[1] 0.04065041"
      ]
     },
     "metadata": {},
     "output_type": "display_data"
    }
   ],
   "source": [
    "pred_nb_train = predict(mod_nb, wine.train)\n",
    "mean(pred_nb_train != wine.train$Type)"
   ]
  },
  {
   "cell_type": "code",
   "execution_count": 27,
   "metadata": {},
   "outputs": [
    {
     "data": {
      "text/html": [
       "0.0363636363636364"
      ],
      "text/latex": [
       "0.0363636363636364"
      ],
      "text/markdown": [
       "0.0363636363636364"
      ],
      "text/plain": [
       "[1] 0.03636364"
      ]
     },
     "metadata": {},
     "output_type": "display_data"
    }
   ],
   "source": [
    "pred_nb_test = predict(mod_nb, wine.test)\n",
    "mean(pred_nb_test != wine.test$Type)"
   ]
  },
  {
   "cell_type": "markdown",
   "metadata": {},
   "source": [
    "### Problem 2"
   ]
  },
  {
   "cell_type": "markdown",
   "metadata": {},
   "source": [
    "Use the k-nearest neighbor classifier on the Theft dataset. Use crossvalidation\n",
    "to select the best k and use the test data to evaluate the performance\n",
    "of the selected model. Show the training, cross-validation\n",
    "and test errors for each choice of k and report your findings."
   ]
  },
  {
   "cell_type": "code",
   "execution_count": 2,
   "metadata": {},
   "outputs": [],
   "source": [
    "theft_train = read.csv(file = file.path(\"C:/Users/Vance He/Desktop/UMich/2020_WN/STATS503/hw/hw2/theft_train.csv\"))\n",
    "theft_test = read.csv(file = file.path(\"C:/Users/Vance He/Desktop/UMich/2020_WN/STATS503/hw/hw2/theft_test.csv\"))"
   ]
  },
  {
   "cell_type": "code",
   "execution_count": 3,
   "metadata": {},
   "outputs": [
    {
     "data": {
      "text/plain": [
       "       X                Y           theft              hour      \n",
       " Min.   :-122.5   Min.   :37.71   Mode :logical   Min.   : 0.00  \n",
       " 1st Qu.:-122.4   1st Qu.:37.76   FALSE:1808      1st Qu.:10.00  \n",
       " Median :-122.4   Median :37.78   TRUE :1692      Median :15.00  \n",
       " Mean   :-122.4   Mean   :37.77                   Mean   :13.86  \n",
       " 3rd Qu.:-122.4   3rd Qu.:37.79                   3rd Qu.:19.00  \n",
       " Max.   :-122.4   Max.   :37.81                   Max.   :23.00  "
      ]
     },
     "metadata": {},
     "output_type": "display_data"
    }
   ],
   "source": [
    "summary(theft_train)"
   ]
  },
  {
   "cell_type": "code",
   "execution_count": 4,
   "metadata": {},
   "outputs": [
    {
     "name": "stderr",
     "output_type": "stream",
     "text": [
      "Warning message:\n",
      "\"package 'dplyr' was built under R version 3.6.2\"\n",
      "Attaching package: 'dplyr'\n",
      "\n",
      "The following objects are masked from 'package:stats':\n",
      "\n",
      "    filter, lag\n",
      "\n",
      "The following objects are masked from 'package:base':\n",
      "\n",
      "    intersect, setdiff, setequal, union\n",
      "\n",
      "Warning message:\n",
      "\"package 'ggplot2' was built under R version 3.6.2\""
     ]
    }
   ],
   "source": [
    "library(class)\n",
    "library(dplyr)\n",
    "library(ggplot2)"
   ]
  },
  {
   "cell_type": "code",
   "execution_count": 5,
   "metadata": {},
   "outputs": [],
   "source": [
    "train_label = theft_train$theft\n",
    "train_x = theft_train %>% select(\"X\",\"Y\",\"hour\") \n",
    "\n",
    "test_label = theft_test$theft\n",
    "test_x = theft_test %>% select(\"X\",\"Y\",\"hour\") "
   ]
  },
  {
   "cell_type": "code",
   "execution_count": 6,
   "metadata": {},
   "outputs": [],
   "source": [
    "train_label=factor(train_label)\n",
    "levels(train_label)=c(\"True\",\"False\")\n",
    "\n",
    "test_label=factor(test_label)\n",
    "levels(test_label)=c(\"True\",\"False\")"
   ]
  },
  {
   "cell_type": "code",
   "execution_count": 7,
   "metadata": {},
   "outputs": [
    {
     "name": "stderr",
     "output_type": "stream",
     "text": [
      "Warning message:\n",
      "\"package 'FNN' was built under R version 3.6.2\"\n",
      "Attaching package: 'FNN'\n",
      "\n",
      "The following objects are masked from 'package:class':\n",
      "\n",
      "    knn, knn.cv\n",
      "\n"
     ]
    }
   ],
   "source": [
    "# 503 way\n",
    "library(FNN)\n",
    "kfold_CV_knn = function(k,k_knn,train,train_label){\n",
    "    fold_size = floor(nrow(train)/k)\n",
    "    cv_error = rep(0,k)\n",
    "    for (i in 1:k){\n",
    "        # iteratively select K-1 folds as training data in CV procedure, remaining as test data.\n",
    "        if (i!=k){\n",
    "            cv_test_id = ((i-1)*fold_size+1):(i*fold_size)\n",
    "        }else{\n",
    "            cv_test_id = ((i-1)*fold_size+1):nrow(train)\n",
    "        }\n",
    "        cv_train = train[-cv_test_id,]\n",
    "        cv_test = train[cv_test_id,]\n",
    "        # calculate the mean and standard deviation using CV_train\n",
    "        mean_cv_train = colMeans(cv_train)\n",
    "        sd_cv_train = apply(cv_train,2,sd)\n",
    "        # normalize the CV_train and CV_test using above mean and sd\n",
    "        cv_train = scale(cv_train, center=mean_cv_train, scale=sd_cv_train)\n",
    "        cv_test = scale(cv_test, center=mean_cv_train, scale=sd_cv_train)\n",
    "        # Fit knn\n",
    "        pred_cv_test = knn(cv_train,cv_test,train_label[-cv_test_id], k=k_knn)\n",
    "        # Calculate CV error by taking averages\n",
    "        cv_error[i] = mean(pred_cv_test != train_label[cv_test_id])\n",
    "    }\n",
    "    return(mean(cv_error))\n",
    "}"
   ]
  },
  {
   "cell_type": "code",
   "execution_count": 8,
   "metadata": {},
   "outputs": [],
   "source": [
    "# continued\n",
    "set.seed(2020)\n",
    "k_fold = 10\n",
    "k_knn = 1:150\n",
    "cv_error = rep(0,length(k_knn))\n",
    "for(i in 1:length(k_knn)){\n",
    "    cv_error[i] = kfold_CV_knn(k=k_fold, k_knn=k_knn[i], train=train_x,train_label=train_label)\n",
    "}"
   ]
  },
  {
   "cell_type": "markdown",
   "metadata": {},
   "source": [
    "Which k gives the minimum CV error?"
   ]
  },
  {
   "cell_type": "code",
   "execution_count": 9,
   "metadata": {},
   "outputs": [
    {
     "data": {
      "text/html": [
       "0.368"
      ],
      "text/latex": [
       "0.368"
      ],
      "text/markdown": [
       "0.368"
      ],
      "text/plain": [
       "[1] 0.368"
      ]
     },
     "metadata": {},
     "output_type": "display_data"
    }
   ],
   "source": [
    "min(cv_error)"
   ]
  },
  {
   "cell_type": "code",
   "execution_count": 67,
   "metadata": {},
   "outputs": [
    {
     "data": {
      "text/html": [
       "0.445428571428571"
      ],
      "text/latex": [
       "0.445428571428571"
      ],
      "text/markdown": [
       "0.445428571428571"
      ],
      "text/plain": [
       "[1] 0.4454286"
      ]
     },
     "metadata": {},
     "output_type": "display_data"
    }
   ],
   "source": [
    "best_k = which(cv_error == min(cv_error))\n",
    "#best_k\n",
    "cv_error[2]"
   ]
  },
  {
   "cell_type": "markdown",
   "metadata": {},
   "source": [
    "**scale the data**"
   ]
  },
  {
   "cell_type": "code",
   "execution_count": 11,
   "metadata": {},
   "outputs": [],
   "source": [
    "mean_train = colMeans(train_x)\n",
    "std_train = sqrt(diag(var(train_x)))\n",
    "# training data\n",
    "train_x = scale(train_x, center = mean_train, scale = std_train)\n",
    "# test data\n",
    "test_x = scale(test_x, center = mean_train, scale = std_train)"
   ]
  },
  {
   "cell_type": "code",
   "execution_count": null,
   "metadata": {},
   "outputs": [],
   "source": [
    "# unofficial way, need to standardize data every time\n",
    "mean_train = colMeans(train_x)\n",
    "std_train = sqrt(diag(var(train_x)))\n",
    "# training data\n",
    "train_x = scale(train_x, center = mean_train, scale = std_train)\n",
    "# test data\n",
    "test_x = scale(test_x, center = mean_train, scale = std_train)\n",
    "\n",
    "# Define training control\n",
    "train.control = trainControl(method=\"cv\", number=10)\n",
    "# Train the model\n",
    "k_range = 1:150\n",
    "model = train(train_x, train_label,method = \"knn\",trControl=train.control,tuneGrid=expand.grid(k=k_range))\n",
    "print(model)"
   ]
  },
  {
   "cell_type": "code",
   "execution_count": 12,
   "metadata": {},
   "outputs": [],
   "source": [
    "pred_train = knn(train_x, train_x,train_label,k=35)\n",
    "train_error = mean(pred_train != train_label)\n",
    "pred_test = knn(train_x, test_x,train_label,k=35)\n",
    "test_error = mean(pred_test != test_label)"
   ]
  },
  {
   "cell_type": "code",
   "execution_count": 13,
   "metadata": {},
   "outputs": [
    {
     "data": {
      "text/html": [
       "0.347142857142857"
      ],
      "text/latex": [
       "0.347142857142857"
      ],
      "text/markdown": [
       "0.347142857142857"
      ],
      "text/plain": [
       "[1] 0.3471429"
      ]
     },
     "metadata": {},
     "output_type": "display_data"
    },
    {
     "data": {
      "text/html": [
       "0.384"
      ],
      "text/latex": [
       "0.384"
      ],
      "text/markdown": [
       "0.384"
      ],
      "text/plain": [
       "[1] 0.384"
      ]
     },
     "metadata": {},
     "output_type": "display_data"
    }
   ],
   "source": [
    "train_error\n",
    "test_error"
   ]
  },
  {
   "cell_type": "code",
   "execution_count": 14,
   "metadata": {},
   "outputs": [],
   "source": [
    "k_range = 1:150\n",
    "train_error = c()\n",
    "test_error = c()\n",
    "for (i in 1:length(k_range)){\n",
    "    pred_train = knn(train_x, train_x,train_label,k=k_range[i])\n",
    "    train_error[i] = mean(pred_train != train_label)\n",
    "    pred_test = knn(train_x, test_x,train_label,k=k_range[i])\n",
    "    test_error[i] = mean(pred_test != test_label)\n",
    "}"
   ]
  },
  {
   "cell_type": "code",
   "execution_count": 17,
   "metadata": {},
   "outputs": [
    {
     "data": {
      "image/png": "[encoded data removed]",
      "text/plain": [
       "plot without title"
      ]
     },
     "metadata": {},
     "output_type": "display_data"
    }
   ],
   "source": [
    "errors = data.frame(train_error, test_error,cv_error, k_range)\n",
    "ggplot(errors,color = Error, aes(x = 1/k_range)) + \n",
    "  geom_line(aes(y = train_error), col = \"red\") + geom_point(aes(y = train_error), col = \"red\") +\n",
    "  geom_line(aes(y = test_error), col = \"blue\") + geom_point(aes(y = test_error), col = \"blue\") +\n",
    "  geom_line(aes(y = cv_error), col = \"brown\") + geom_point(aes(y = cv_error), col = \"brown\") +\n",
    "  ylab(\"Error Rate\") + xlab(\"1/K\") + ggtitle(\"Training(red), test(blue), CV(brown) error rate for KNN\") + \n",
    "  theme_minimal()"
   ]
  },
  {
   "cell_type": "markdown",
   "metadata": {},
   "source": [
    "### Problem 3\n",
    "\n",
    "The textbook (“An Introduction to Statistical Learning with Applications\n",
    "in R”) describes that the cv.glm() function can be used in order to\n",
    "compute the LOOCV error estimate. Alternatively, one could compute\n",
    "those quantities using just the glm() and predict.glm() functions,\n",
    "and a for loop. You will now take this approach in order to\n",
    "compute the LOOCV error for a logistic regression model on the\n",
    "Weekly data set (in the ISLR package)."
   ]
  },
  {
   "cell_type": "markdown",
   "metadata": {},
   "source": [
    "**a) Fit a logistic regression model that predicts Direction using\n",
    "Lag1 and Lag2. Report and comment on the result.**"
   ]
  },
  {
   "cell_type": "code",
   "execution_count": 69,
   "metadata": {},
   "outputs": [],
   "source": [
    "library(ISLR)"
   ]
  },
  {
   "cell_type": "code",
   "execution_count": 70,
   "metadata": {},
   "outputs": [
    {
     "data": {
      "text/plain": [
       "      Year           Lag1               Lag2               Lag3         \n",
       " Min.   :1990   Min.   :-18.1950   Min.   :-18.1950   Min.   :-18.1950  \n",
       " 1st Qu.:1995   1st Qu.: -1.1540   1st Qu.: -1.1540   1st Qu.: -1.1580  \n",
       " Median :2000   Median :  0.2410   Median :  0.2410   Median :  0.2410  \n",
       " Mean   :2000   Mean   :  0.1506   Mean   :  0.1511   Mean   :  0.1472  \n",
       " 3rd Qu.:2005   3rd Qu.:  1.4050   3rd Qu.:  1.4090   3rd Qu.:  1.4090  \n",
       " Max.   :2010   Max.   : 12.0260   Max.   : 12.0260   Max.   : 12.0260  \n",
       "      Lag4               Lag5              Volume            Today         \n",
       " Min.   :-18.1950   Min.   :-18.1950   Min.   :0.08747   Min.   :-18.1950  \n",
       " 1st Qu.: -1.1580   1st Qu.: -1.1660   1st Qu.:0.33202   1st Qu.: -1.1540  \n",
       " Median :  0.2380   Median :  0.2340   Median :1.00268   Median :  0.2410  \n",
       " Mean   :  0.1458   Mean   :  0.1399   Mean   :1.57462   Mean   :  0.1499  \n",
       " 3rd Qu.:  1.4090   3rd Qu.:  1.4050   3rd Qu.:2.05373   3rd Qu.:  1.4050  \n",
       " Max.   : 12.0260   Max.   : 12.0260   Max.   :9.32821   Max.   : 12.0260  \n",
       " Direction \n",
       " Down:484  \n",
       " Up  :605  \n",
       "           \n",
       "           \n",
       "           \n",
       "           "
      ]
     },
     "metadata": {},
     "output_type": "display_data"
    }
   ],
   "source": [
    "data = Weekly\n",
    "summary(data)"
   ]
  },
  {
   "cell_type": "code",
   "execution_count": 71,
   "metadata": {},
   "outputs": [],
   "source": [
    "data$Direction = relevel(data$Direction, ref=\"Up\")"
   ]
  },
  {
   "cell_type": "code",
   "execution_count": 72,
   "metadata": {},
   "outputs": [
    {
     "data": {
      "text/plain": [
       "\n",
       "Call:\n",
       "glm(formula = Direction ~ Lag1 + Lag2, family = binomial, data = data)\n",
       "\n",
       "Deviance Residuals: \n",
       "   Min      1Q  Median      3Q     Max  \n",
       "-1.506  -1.083  -1.001   1.261   1.623  \n",
       "\n",
       "Coefficients:\n",
       "            Estimate Std. Error z value Pr(>|z|)    \n",
       "(Intercept) -0.22122    0.06147  -3.599 0.000319 ***\n",
       "Lag1         0.03872    0.02622   1.477 0.139672    \n",
       "Lag2        -0.06025    0.02655  -2.270 0.023232 *  \n",
       "---\n",
       "Signif. codes:  0 '***' 0.001 '**' 0.01 '*' 0.05 '.' 0.1 ' ' 1\n",
       "\n",
       "(Dispersion parameter for binomial family taken to be 1)\n",
       "\n",
       "    Null deviance: 1496.2  on 1088  degrees of freedom\n",
       "Residual deviance: 1488.2  on 1086  degrees of freedom\n",
       "AIC: 1494.2\n",
       "\n",
       "Number of Fisher Scoring iterations: 4\n"
      ]
     },
     "metadata": {},
     "output_type": "display_data"
    }
   ],
   "source": [
    "mod_log=glm(Direction~Lag1+Lag2,data=data,family=binomial)\n",
    "summary(mod_log)"
   ]
  },
  {
   "cell_type": "markdown",
   "metadata": {},
   "source": [
    "**b)** Fit a logistic regression model that predicts Direction using\n",
    "Lag1 and Lag2 using all but the first observation. Report and\n",
    "comment on the result."
   ]
  },
  {
   "cell_type": "code",
   "execution_count": 73,
   "metadata": {},
   "outputs": [
    {
     "data": {
      "text/plain": [
       "\n",
       "Call:\n",
       "glm(formula = Direction ~ Lag1 + Lag2, family = binomial, data = data[-1, \n",
       "    ])\n",
       "\n",
       "Deviance Residuals: \n",
       "    Min       1Q   Median       3Q      Max  \n",
       "-1.5071  -1.0819  -0.9999   1.2617   1.6258  \n",
       "\n",
       "Coefficients:\n",
       "            Estimate Std. Error z value Pr(>|z|)    \n",
       "(Intercept) -0.22324    0.06150  -3.630 0.000283 ***\n",
       "Lag1         0.03843    0.02622   1.466 0.142683    \n",
       "Lag2        -0.06085    0.02656  -2.291 0.021971 *  \n",
       "---\n",
       "Signif. codes:  0 '***' 0.001 '**' 0.01 '*' 0.05 '.' 0.1 ' ' 1\n",
       "\n",
       "(Dispersion parameter for binomial family taken to be 1)\n",
       "\n",
       "    Null deviance: 1494.6  on 1087  degrees of freedom\n",
       "Residual deviance: 1486.5  on 1085  degrees of freedom\n",
       "AIC: 1492.5\n",
       "\n",
       "Number of Fisher Scoring iterations: 4\n"
      ]
     },
     "metadata": {},
     "output_type": "display_data"
    }
   ],
   "source": [
    "mod_log_b=glm(Direction~Lag1+Lag2,data=data[-1,],family=binomial)\n",
    "summary(mod_log_b)"
   ]
  },
  {
   "cell_type": "markdown",
   "metadata": {},
   "source": [
    "**(c)** Use the model from (b) to predict the direction of the first observation.\n",
    "You can do this by predicting that the first observation\n",
    "will go up if Pr(Direction=“Up” j Lag1, Lag2) > 0.5. Was this\n",
    "observation correctly classified?"
   ]
  },
  {
   "cell_type": "code",
   "execution_count": 74,
   "metadata": {},
   "outputs": [
    {
     "data": {
      "text/html": [
       "<table>\n",
       "<thead><tr><th scope=col>Year</th><th scope=col>Lag1</th><th scope=col>Lag2</th><th scope=col>Lag3</th><th scope=col>Lag4</th><th scope=col>Lag5</th><th scope=col>Volume</th><th scope=col>Today</th><th scope=col>Direction</th></tr></thead>\n",
       "<tbody>\n",
       "\t<tr><td>1990     </td><td> 0.816   </td><td> 1.572   </td><td>-3.936   </td><td>-0.229   </td><td>-3.484   </td><td>0.1549760</td><td>-0.270   </td><td>Down     </td></tr>\n",
       "\t<tr><td>1990     </td><td>-0.270   </td><td> 0.816   </td><td> 1.572   </td><td>-3.936   </td><td>-0.229   </td><td>0.1485740</td><td>-2.576   </td><td>Down     </td></tr>\n",
       "\t<tr><td>1990     </td><td>-2.576   </td><td>-0.270   </td><td> 0.816   </td><td> 1.572   </td><td>-3.936   </td><td>0.1598375</td><td> 3.514   </td><td>Up       </td></tr>\n",
       "\t<tr><td>1990     </td><td> 3.514   </td><td>-2.576   </td><td>-0.270   </td><td> 0.816   </td><td> 1.572   </td><td>0.1616300</td><td> 0.712   </td><td>Up       </td></tr>\n",
       "\t<tr><td>1990     </td><td> 0.712   </td><td> 3.514   </td><td>-2.576   </td><td>-0.270   </td><td> 0.816   </td><td>0.1537280</td><td> 1.178   </td><td>Up       </td></tr>\n",
       "\t<tr><td>1990     </td><td> 1.178   </td><td> 0.712   </td><td> 3.514   </td><td>-2.576   </td><td>-0.270   </td><td>0.1544440</td><td>-1.372   </td><td>Down     </td></tr>\n",
       "</tbody>\n",
       "</table>\n"
      ],
      "text/latex": [
       "\\begin{tabular}{r|lllllllll}\n",
       " Year & Lag1 & Lag2 & Lag3 & Lag4 & Lag5 & Volume & Today & Direction\\\\\n",
       "\\hline\n",
       "\t 1990      &  0.816    &  1.572    & -3.936    & -0.229    & -3.484    & 0.1549760 & -0.270    & Down     \\\\\n",
       "\t 1990      & -0.270    &  0.816    &  1.572    & -3.936    & -0.229    & 0.1485740 & -2.576    & Down     \\\\\n",
       "\t 1990      & -2.576    & -0.270    &  0.816    &  1.572    & -3.936    & 0.1598375 &  3.514    & Up       \\\\\n",
       "\t 1990      &  3.514    & -2.576    & -0.270    &  0.816    &  1.572    & 0.1616300 &  0.712    & Up       \\\\\n",
       "\t 1990      &  0.712    &  3.514    & -2.576    & -0.270    &  0.816    & 0.1537280 &  1.178    & Up       \\\\\n",
       "\t 1990      &  1.178    &  0.712    &  3.514    & -2.576    & -0.270    & 0.1544440 & -1.372    & Down     \\\\\n",
       "\\end{tabular}\n"
      ],
      "text/markdown": [
       "\n",
       "| Year | Lag1 | Lag2 | Lag3 | Lag4 | Lag5 | Volume | Today | Direction |\n",
       "|---|---|---|---|---|---|---|---|---|\n",
       "| 1990      |  0.816    |  1.572    | -3.936    | -0.229    | -3.484    | 0.1549760 | -0.270    | Down      |\n",
       "| 1990      | -0.270    |  0.816    |  1.572    | -3.936    | -0.229    | 0.1485740 | -2.576    | Down      |\n",
       "| 1990      | -2.576    | -0.270    |  0.816    |  1.572    | -3.936    | 0.1598375 |  3.514    | Up        |\n",
       "| 1990      |  3.514    | -2.576    | -0.270    |  0.816    |  1.572    | 0.1616300 |  0.712    | Up        |\n",
       "| 1990      |  0.712    |  3.514    | -2.576    | -0.270    |  0.816    | 0.1537280 |  1.178    | Up        |\n",
       "| 1990      |  1.178    |  0.712    |  3.514    | -2.576    | -0.270    | 0.1544440 | -1.372    | Down      |\n",
       "\n"
      ],
      "text/plain": [
       "  Year Lag1   Lag2   Lag3   Lag4   Lag5   Volume    Today  Direction\n",
       "1 1990  0.816  1.572 -3.936 -0.229 -3.484 0.1549760 -0.270 Down     \n",
       "2 1990 -0.270  0.816  1.572 -3.936 -0.229 0.1485740 -2.576 Down     \n",
       "3 1990 -2.576 -0.270  0.816  1.572 -3.936 0.1598375  3.514 Up       \n",
       "4 1990  3.514 -2.576 -0.270  0.816  1.572 0.1616300  0.712 Up       \n",
       "5 1990  0.712  3.514 -2.576 -0.270  0.816 0.1537280  1.178 Up       \n",
       "6 1990  1.178  0.712  3.514 -2.576 -0.270 0.1544440 -1.372 Down     "
      ]
     },
     "metadata": {},
     "output_type": "display_data"
    }
   ],
   "source": [
    "head(data)"
   ]
  },
  {
   "cell_type": "code",
   "execution_count": 63,
   "metadata": {},
   "outputs": [
    {
     "data": {
      "text/html": [
       "<table>\n",
       "<thead><tr><th scope=col>Year</th><th scope=col>Lag1</th><th scope=col>Lag2</th><th scope=col>Lag3</th><th scope=col>Lag4</th><th scope=col>Lag5</th><th scope=col>Volume</th><th scope=col>Today</th><th scope=col>Direction</th></tr></thead>\n",
       "<tbody>\n",
       "\t<tr><td>1990    </td><td>0.816   </td><td>1.572   </td><td>-3.936  </td><td>-0.229  </td><td>-3.484  </td><td>0.154976</td><td>-0.27   </td><td>Down    </td></tr>\n",
       "</tbody>\n",
       "</table>\n"
      ],
      "text/latex": [
       "\\begin{tabular}{r|lllllllll}\n",
       " Year & Lag1 & Lag2 & Lag3 & Lag4 & Lag5 & Volume & Today & Direction\\\\\n",
       "\\hline\n",
       "\t 1990     & 0.816    & 1.572    & -3.936   & -0.229   & -3.484   & 0.154976 & -0.27    & Down    \\\\\n",
       "\\end{tabular}\n"
      ],
      "text/markdown": [
       "\n",
       "| Year | Lag1 | Lag2 | Lag3 | Lag4 | Lag5 | Volume | Today | Direction |\n",
       "|---|---|---|---|---|---|---|---|---|\n",
       "| 1990     | 0.816    | 1.572    | -3.936   | -0.229   | -3.484   | 0.154976 | -0.27    | Down     |\n",
       "\n"
      ],
      "text/plain": [
       "  Year Lag1  Lag2  Lag3   Lag4   Lag5   Volume   Today Direction\n",
       "1 1990 0.816 1.572 -3.936 -0.229 -3.484 0.154976 -0.27 Down     "
      ]
     },
     "metadata": {},
     "output_type": "display_data"
    }
   ],
   "source": [
    "data[1,]"
   ]
  },
  {
   "cell_type": "markdown",
   "metadata": {},
   "source": [
    "<font color=\"red\">question here!</font>"
   ]
  },
  {
   "cell_type": "code",
   "execution_count": 75,
   "metadata": {},
   "outputs": [
    {
     "data": {
      "text/html": [
       "<strong>1:</strong> 0.428607679479557"
      ],
      "text/latex": [
       "\\textbf{1:} 0.428607679479557"
      ],
      "text/markdown": [
       "**1:** 0.428607679479557"
      ],
      "text/plain": [
       "        1 \n",
       "0.4286077 "
      ]
     },
     "metadata": {},
     "output_type": "display_data"
    }
   ],
   "source": [
    "predict(mod_log_b, data[1,]， type=\"response\")"
   ]
  },
  {
   "cell_type": "code",
   "execution_count": 76,
   "metadata": {},
   "outputs": [
    {
     "data": {
      "text/html": [
       "<strong>1:</strong> 0.428607679479557"
      ],
      "text/latex": [
       "\\textbf{1:} 0.428607679479557"
      ],
      "text/markdown": [
       "**1:** 0.428607679479557"
      ],
      "text/plain": [
       "        1 \n",
       "0.4286077 "
      ]
     },
     "metadata": {},
     "output_type": "display_data"
    }
   ],
   "source": [
    "# check\n",
    "# Question here\n",
    "num = predict(mod_log_b, data[1,])\n",
    "binomial()$linkinv(num)"
   ]
  },
  {
   "cell_type": "code",
   "execution_count": 66,
   "metadata": {},
   "outputs": [
    {
     "data": {
      "text/html": [
       "<strong>1:</strong> 0.571392320520443"
      ],
      "text/latex": [
       "\\textbf{1:} 0.571392320520443"
      ],
      "text/markdown": [
       "**1:** 0.571392320520443"
      ],
      "text/plain": [
       "        1 \n",
       "0.5713923 "
      ]
     },
     "metadata": {},
     "output_type": "display_data"
    }
   ],
   "source": [
    "plogis(predict(mod_log_b, data[1,]))"
   ]
  },
  {
   "cell_type": "markdown",
   "metadata": {},
   "source": [
    "**(d)** Write a for loop from i = 1 to i = n, where n is the number of\n",
    "observations in the data set, that performs each of the following\n",
    "steps:"
   ]
  },
  {
   "cell_type": "code",
   "execution_count": 52,
   "metadata": {},
   "outputs": [
    {
     "data": {
      "text/html": [
       "<table>\n",
       "<thead><tr><th scope=col>Year</th><th scope=col>Lag1</th><th scope=col>Lag2</th><th scope=col>Lag3</th><th scope=col>Lag4</th><th scope=col>Lag5</th><th scope=col>Volume</th><th scope=col>Today</th><th scope=col>Direction</th></tr></thead>\n",
       "<tbody>\n",
       "\t<tr><td>1990     </td><td> 0.816   </td><td> 1.572   </td><td>-3.936   </td><td>-0.229   </td><td>-3.484   </td><td>0.1549760</td><td>-0.270   </td><td>Down     </td></tr>\n",
       "\t<tr><td>1990     </td><td>-0.270   </td><td> 0.816   </td><td> 1.572   </td><td>-3.936   </td><td>-0.229   </td><td>0.1485740</td><td>-2.576   </td><td>Down     </td></tr>\n",
       "\t<tr><td>1990     </td><td>-2.576   </td><td>-0.270   </td><td> 0.816   </td><td> 1.572   </td><td>-3.936   </td><td>0.1598375</td><td> 3.514   </td><td>Up       </td></tr>\n",
       "\t<tr><td>1990     </td><td> 3.514   </td><td>-2.576   </td><td>-0.270   </td><td> 0.816   </td><td> 1.572   </td><td>0.1616300</td><td> 0.712   </td><td>Up       </td></tr>\n",
       "\t<tr><td>1990     </td><td> 0.712   </td><td> 3.514   </td><td>-2.576   </td><td>-0.270   </td><td> 0.816   </td><td>0.1537280</td><td> 1.178   </td><td>Up       </td></tr>\n",
       "\t<tr><td>1990     </td><td> 1.178   </td><td> 0.712   </td><td> 3.514   </td><td>-2.576   </td><td>-0.270   </td><td>0.1544440</td><td>-1.372   </td><td>Down     </td></tr>\n",
       "</tbody>\n",
       "</table>\n"
      ],
      "text/latex": [
       "\\begin{tabular}{r|lllllllll}\n",
       " Year & Lag1 & Lag2 & Lag3 & Lag4 & Lag5 & Volume & Today & Direction\\\\\n",
       "\\hline\n",
       "\t 1990      &  0.816    &  1.572    & -3.936    & -0.229    & -3.484    & 0.1549760 & -0.270    & Down     \\\\\n",
       "\t 1990      & -0.270    &  0.816    &  1.572    & -3.936    & -0.229    & 0.1485740 & -2.576    & Down     \\\\\n",
       "\t 1990      & -2.576    & -0.270    &  0.816    &  1.572    & -3.936    & 0.1598375 &  3.514    & Up       \\\\\n",
       "\t 1990      &  3.514    & -2.576    & -0.270    &  0.816    &  1.572    & 0.1616300 &  0.712    & Up       \\\\\n",
       "\t 1990      &  0.712    &  3.514    & -2.576    & -0.270    &  0.816    & 0.1537280 &  1.178    & Up       \\\\\n",
       "\t 1990      &  1.178    &  0.712    &  3.514    & -2.576    & -0.270    & 0.1544440 & -1.372    & Down     \\\\\n",
       "\\end{tabular}\n"
      ],
      "text/markdown": [
       "\n",
       "| Year | Lag1 | Lag2 | Lag3 | Lag4 | Lag5 | Volume | Today | Direction |\n",
       "|---|---|---|---|---|---|---|---|---|\n",
       "| 1990      |  0.816    |  1.572    | -3.936    | -0.229    | -3.484    | 0.1549760 | -0.270    | Down      |\n",
       "| 1990      | -0.270    |  0.816    |  1.572    | -3.936    | -0.229    | 0.1485740 | -2.576    | Down      |\n",
       "| 1990      | -2.576    | -0.270    |  0.816    |  1.572    | -3.936    | 0.1598375 |  3.514    | Up        |\n",
       "| 1990      |  3.514    | -2.576    | -0.270    |  0.816    |  1.572    | 0.1616300 |  0.712    | Up        |\n",
       "| 1990      |  0.712    |  3.514    | -2.576    | -0.270    |  0.816    | 0.1537280 |  1.178    | Up        |\n",
       "| 1990      |  1.178    |  0.712    |  3.514    | -2.576    | -0.270    | 0.1544440 | -1.372    | Down      |\n",
       "\n"
      ],
      "text/plain": [
       "  Year Lag1   Lag2   Lag3   Lag4   Lag5   Volume    Today  Direction\n",
       "1 1990  0.816  1.572 -3.936 -0.229 -3.484 0.1549760 -0.270 Down     \n",
       "2 1990 -0.270  0.816  1.572 -3.936 -0.229 0.1485740 -2.576 Down     \n",
       "3 1990 -2.576 -0.270  0.816  1.572 -3.936 0.1598375  3.514 Up       \n",
       "4 1990  3.514 -2.576 -0.270  0.816  1.572 0.1616300  0.712 Up       \n",
       "5 1990  0.712  3.514 -2.576 -0.270  0.816 0.1537280  1.178 Up       \n",
       "6 1990  1.178  0.712  3.514 -2.576 -0.270 0.1544440 -1.372 Down     "
      ]
     },
     "metadata": {},
     "output_type": "display_data"
    }
   ],
   "source": [
    "head(data)"
   ]
  },
  {
   "cell_type": "code",
   "execution_count": 77,
   "metadata": {},
   "outputs": [
    {
     "data": {
      "text/html": [
       "Up\n",
       "<details>\n",
       "\t<summary style=display:list-item;cursor:pointer>\n",
       "\t\t<strong>Levels</strong>:\n",
       "\t</summary>\n",
       "\t<ol class=list-inline>\n",
       "\t\t<li>'Up'</li>\n",
       "\t\t<li>'Down'</li>\n",
       "\t</ol>\n",
       "</details>"
      ],
      "text/latex": [
       "Up\n",
       "\\emph{Levels}: \\begin{enumerate*}\n",
       "\\item 'Up'\n",
       "\\item 'Down'\n",
       "\\end{enumerate*}\n"
      ],
      "text/markdown": [
       "Up\n",
       "**Levels**: 1. 'Up'\n",
       "2. 'Down'\n",
       "\n",
       "\n"
      ],
      "text/plain": [
       "[1] Up\n",
       "Levels: Up Down"
      ]
     },
     "metadata": {},
     "output_type": "display_data"
    }
   ],
   "source": [
    "data$Direction[4]"
   ]
  },
  {
   "cell_type": "code",
   "execution_count": 71,
   "metadata": {},
   "outputs": [
    {
     "data": {
      "text/html": [
       "2"
      ],
      "text/latex": [
       "2"
      ],
      "text/markdown": [
       "2"
      ],
      "text/plain": [
       "[1] 2"
      ]
     },
     "metadata": {},
     "output_type": "display_data"
    }
   ],
   "source": [
    "count = 1\n",
    "count = count + 1\n",
    "count"
   ]
  },
  {
   "cell_type": "code",
   "execution_count": 72,
   "metadata": {},
   "outputs": [],
   "source": [
    "n=dim(data)[1]\n",
    "count = 0\n",
    "for (i in 1:n){\n",
    "    mod_log_d=glm(Direction~Lag1+Lag2,data=data[-i,],family=binomial)\n",
    "    num = predict(mod_log_d, data[i,])\n",
    "    prob = binomial()$linkinv(num)\n",
    "    if (prob >= 0.5){\n",
    "        label = \"Up\"\n",
    "    }else{\n",
    "        label = \"Down\"\n",
    "        }\n",
    "    if (label != data$Direction[i]){\n",
    "        count = count + 1\n",
    "        }\n",
    "}"
   ]
  },
  {
   "cell_type": "code",
   "execution_count": 75,
   "metadata": {},
   "outputs": [
    {
     "data": {
      "text/html": [
       "0.449954086317723"
      ],
      "text/latex": [
       "0.449954086317723"
      ],
      "text/markdown": [
       "0.449954086317723"
      ],
      "text/plain": [
       "[1] 0.4499541"
      ]
     },
     "metadata": {},
     "output_type": "display_data"
    }
   ],
   "source": [
    "test_error = count/n\n",
    "test_error"
   ]
  }
 ],
 "metadata": {
  "kernelspec": {
   "display_name": "R",
   "language": "R",
   "name": "ir"
  },
  "language_info": {
   "codemirror_mode": "r",
   "file_extension": ".r",
   "mimetype": "text/x-r-source",
   "name": "R",
   "pygments_lexer": "r",
   "version": "3.6.1"
  }
 },
 "nbformat": 4,
 "nbformat_minor": 4
}
