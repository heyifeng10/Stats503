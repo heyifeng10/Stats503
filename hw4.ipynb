{
 "cells": [
  {
   "cell_type": "code",
   "execution_count": 1,
   "metadata": {},
   "outputs": [],
   "source": [
    "train = read.csv(file = \n",
    "                  file.path(\"C:/Users/Vance He/Desktop/UMich/2020_WN/STATS503/hw/hw4/bank_marketing_train.csv\"))\n",
    "test = read.csv(file = \n",
    "                  file.path(\"C:/Users/Vance He/Desktop/UMich/2020_WN/STATS503/hw/hw4/bank_marketing_test.csv\"))"
   ]
  },
  {
   "cell_type": "markdown",
   "metadata": {},
   "source": [
    "**a)** The data set has been divided at random into training and testing\n",
    "parts that contain 70% and 30% of the clients respectively.\n",
    "Fit a classification tree using only the training set. Find the percentage\n",
    "of clients in the test set that were misclassified by your optimal tree. Of all the ‘no’ clients of the test set what percentage\n",
    "was misclassified and of all the ‘yes’ clients of the test set\n",
    "what percentage was misclassified?"
   ]
  },
  {
   "cell_type": "code",
   "execution_count": 2,
   "metadata": {},
   "outputs": [
    {
     "data": {
      "text/html": [
       "<ol class=list-inline>\n",
       "\t<li>7813</li>\n",
       "\t<li>17</li>\n",
       "</ol>\n"
      ],
      "text/latex": [
       "\\begin{enumerate*}\n",
       "\\item 7813\n",
       "\\item 17\n",
       "\\end{enumerate*}\n"
      ],
      "text/markdown": [
       "1. 7813\n",
       "2. 17\n",
       "\n",
       "\n"
      ],
      "text/plain": [
       "[1] 7813   17"
      ]
     },
     "metadata": {},
     "output_type": "display_data"
    }
   ],
   "source": [
    "dim(train)"
   ]
  },
  {
   "cell_type": "code",
   "execution_count": 3,
   "metadata": {},
   "outputs": [
    {
     "data": {
      "text/html": [
       "<ol class=list-inline>\n",
       "\t<li>3349</li>\n",
       "\t<li>17</li>\n",
       "</ol>\n"
      ],
      "text/latex": [
       "\\begin{enumerate*}\n",
       "\\item 3349\n",
       "\\item 17\n",
       "\\end{enumerate*}\n"
      ],
      "text/markdown": [
       "1. 3349\n",
       "2. 17\n",
       "\n",
       "\n"
      ],
      "text/plain": [
       "[1] 3349   17"
      ]
     },
     "metadata": {},
     "output_type": "display_data"
    }
   ],
   "source": [
    "dim(test)"
   ]
  },
  {
   "cell_type": "code",
   "execution_count": 2,
   "metadata": {},
   "outputs": [
    {
     "data": {
      "text/html": [
       "<table>\n",
       "<thead><tr><th scope=col>age</th><th scope=col>job</th><th scope=col>marital</th><th scope=col>education</th><th scope=col>default</th><th scope=col>balance</th><th scope=col>housing</th><th scope=col>loan</th><th scope=col>contact</th><th scope=col>day</th><th scope=col>month</th><th scope=col>duration</th><th scope=col>campaign</th><th scope=col>pdays</th><th scope=col>previous</th><th scope=col>poutcome</th><th scope=col>deposit</th></tr></thead>\n",
       "<tbody>\n",
       "\t<tr><td>27         </td><td>blue-collar</td><td>married    </td><td>secondary  </td><td>no         </td><td> 61        </td><td>yes        </td><td>no         </td><td>unknown    </td><td>19         </td><td>jun        </td><td>1012       </td><td>1          </td><td> -1        </td><td>0          </td><td>unknown    </td><td>yes        </td></tr>\n",
       "\t<tr><td>50         </td><td>blue-collar</td><td>divorced   </td><td>secondary  </td><td>no         </td><td>204        </td><td>yes        </td><td>yes        </td><td>unknown    </td><td>14         </td><td>may        </td><td> 421       </td><td>1          </td><td> -1        </td><td>0          </td><td>unknown    </td><td>no         </td></tr>\n",
       "\t<tr><td>34         </td><td>management </td><td>single     </td><td>tertiary   </td><td>no         </td><td>171        </td><td>yes        </td><td>no         </td><td>cellular   </td><td> 7         </td><td>may        </td><td> 191       </td><td>1          </td><td>294        </td><td>1          </td><td>failure    </td><td>no         </td></tr>\n",
       "\t<tr><td>27         </td><td>student    </td><td>single     </td><td>tertiary   </td><td>no         </td><td>118        </td><td>no         </td><td>no         </td><td>cellular   </td><td>31         </td><td>aug        </td><td> 160       </td><td>3          </td><td> 98        </td><td>1          </td><td>failure    </td><td>yes        </td></tr>\n",
       "\t<tr><td>36         </td><td>management </td><td>single     </td><td>unknown    </td><td>no         </td><td> 62        </td><td>no         </td><td>no         </td><td>cellular   </td><td>13         </td><td>jul        </td><td> 311       </td><td>1          </td><td> 91        </td><td>2          </td><td>success    </td><td>yes        </td></tr>\n",
       "\t<tr><td>38         </td><td>blue-collar</td><td>single     </td><td>primary    </td><td>no         </td><td>  0        </td><td>yes        </td><td>no         </td><td>cellular   </td><td> 7         </td><td>may        </td><td> 350       </td><td>2          </td><td> -1        </td><td>0          </td><td>unknown    </td><td>no         </td></tr>\n",
       "</tbody>\n",
       "</table>\n"
      ],
      "text/latex": [
       "\\begin{tabular}{r|lllllllllllllllll}\n",
       " age & job & marital & education & default & balance & housing & loan & contact & day & month & duration & campaign & pdays & previous & poutcome & deposit\\\\\n",
       "\\hline\n",
       "\t 27          & blue-collar & married     & secondary   & no          &  61         & yes         & no          & unknown     & 19          & jun         & 1012        & 1           &  -1         & 0           & unknown     & yes        \\\\\n",
       "\t 50          & blue-collar & divorced    & secondary   & no          & 204         & yes         & yes         & unknown     & 14          & may         &  421        & 1           &  -1         & 0           & unknown     & no         \\\\\n",
       "\t 34          & management  & single      & tertiary    & no          & 171         & yes         & no          & cellular    &  7          & may         &  191        & 1           & 294         & 1           & failure     & no         \\\\\n",
       "\t 27          & student     & single      & tertiary    & no          & 118         & no          & no          & cellular    & 31          & aug         &  160        & 3           &  98         & 1           & failure     & yes        \\\\\n",
       "\t 36          & management  & single      & unknown     & no          &  62         & no          & no          & cellular    & 13          & jul         &  311        & 1           &  91         & 2           & success     & yes        \\\\\n",
       "\t 38          & blue-collar & single      & primary     & no          &   0         & yes         & no          & cellular    &  7          & may         &  350        & 2           &  -1         & 0           & unknown     & no         \\\\\n",
       "\\end{tabular}\n"
      ],
      "text/markdown": [
       "\n",
       "| age | job | marital | education | default | balance | housing | loan | contact | day | month | duration | campaign | pdays | previous | poutcome | deposit |\n",
       "|---|---|---|---|---|---|---|---|---|---|---|---|---|---|---|---|---|\n",
       "| 27          | blue-collar | married     | secondary   | no          |  61         | yes         | no          | unknown     | 19          | jun         | 1012        | 1           |  -1         | 0           | unknown     | yes         |\n",
       "| 50          | blue-collar | divorced    | secondary   | no          | 204         | yes         | yes         | unknown     | 14          | may         |  421        | 1           |  -1         | 0           | unknown     | no          |\n",
       "| 34          | management  | single      | tertiary    | no          | 171         | yes         | no          | cellular    |  7          | may         |  191        | 1           | 294         | 1           | failure     | no          |\n",
       "| 27          | student     | single      | tertiary    | no          | 118         | no          | no          | cellular    | 31          | aug         |  160        | 3           |  98         | 1           | failure     | yes         |\n",
       "| 36          | management  | single      | unknown     | no          |  62         | no          | no          | cellular    | 13          | jul         |  311        | 1           |  91         | 2           | success     | yes         |\n",
       "| 38          | blue-collar | single      | primary     | no          |   0         | yes         | no          | cellular    |  7          | may         |  350        | 2           |  -1         | 0           | unknown     | no          |\n",
       "\n"
      ],
      "text/plain": [
       "  age job         marital  education default balance housing loan contact  day\n",
       "1 27  blue-collar married  secondary no       61     yes     no   unknown  19 \n",
       "2 50  blue-collar divorced secondary no      204     yes     yes  unknown  14 \n",
       "3 34  management  single   tertiary  no      171     yes     no   cellular  7 \n",
       "4 27  student     single   tertiary  no      118     no      no   cellular 31 \n",
       "5 36  management  single   unknown   no       62     no      no   cellular 13 \n",
       "6 38  blue-collar single   primary   no        0     yes     no   cellular  7 \n",
       "  month duration campaign pdays previous poutcome deposit\n",
       "1 jun   1012     1         -1   0        unknown  yes    \n",
       "2 may    421     1         -1   0        unknown  no     \n",
       "3 may    191     1        294   1        failure  no     \n",
       "4 aug    160     3         98   1        failure  yes    \n",
       "5 jul    311     1         91   2        success  yes    \n",
       "6 may    350     2         -1   0        unknown  no     "
      ]
     },
     "metadata": {},
     "output_type": "display_data"
    }
   ],
   "source": [
    "head(train)"
   ]
  },
  {
   "cell_type": "code",
   "execution_count": 3,
   "metadata": {},
   "outputs": [
    {
     "data": {
      "text/html": [
       "<table>\n",
       "<thead><tr><th scope=col>age</th><th scope=col>job</th><th scope=col>marital</th><th scope=col>education</th><th scope=col>default</th><th scope=col>balance</th><th scope=col>housing</th><th scope=col>loan</th><th scope=col>contact</th><th scope=col>day</th><th scope=col>month</th><th scope=col>duration</th><th scope=col>campaign</th><th scope=col>pdays</th><th scope=col>previous</th><th scope=col>poutcome</th><th scope=col>deposit</th></tr></thead>\n",
       "<tbody>\n",
       "\t<tr><td>55         </td><td>services   </td><td>married    </td><td>secondary  </td><td>no         </td><td>2476       </td><td>yes        </td><td>no         </td><td>unknown    </td><td>5          </td><td>may        </td><td> 579       </td><td>1          </td><td>-1         </td><td>0          </td><td>unknown    </td><td>yes        </td></tr>\n",
       "\t<tr><td>54         </td><td>admin.     </td><td>married    </td><td>tertiary   </td><td>no         </td><td> 184       </td><td>no         </td><td>no         </td><td>unknown    </td><td>5          </td><td>may        </td><td> 673       </td><td>2          </td><td>-1         </td><td>0          </td><td>unknown    </td><td>yes        </td></tr>\n",
       "\t<tr><td>42         </td><td>management </td><td>single     </td><td>tertiary   </td><td>no         </td><td>   0       </td><td>yes        </td><td>yes        </td><td>unknown    </td><td>5          </td><td>may        </td><td> 562       </td><td>2          </td><td>-1         </td><td>0          </td><td>unknown    </td><td>yes        </td></tr>\n",
       "\t<tr><td>56         </td><td>management </td><td>married    </td><td>tertiary   </td><td>no         </td><td> 830       </td><td>yes        </td><td>yes        </td><td>unknown    </td><td>6          </td><td>may        </td><td>1201       </td><td>1          </td><td>-1         </td><td>0          </td><td>unknown    </td><td>yes        </td></tr>\n",
       "\t<tr><td>30         </td><td>blue-collar</td><td>married    </td><td>secondary  </td><td>no         </td><td> 309       </td><td>yes        </td><td>no         </td><td>unknown    </td><td>7          </td><td>may        </td><td>1574       </td><td>2          </td><td>-1         </td><td>0          </td><td>unknown    </td><td>yes        </td></tr>\n",
       "\t<tr><td>32         </td><td>blue-collar</td><td>single     </td><td>primary    </td><td>no         </td><td> 611       </td><td>yes        </td><td>no         </td><td>unknown    </td><td>8          </td><td>may        </td><td> 541       </td><td>3          </td><td>-1         </td><td>0          </td><td>unknown    </td><td>yes        </td></tr>\n",
       "</tbody>\n",
       "</table>\n"
      ],
      "text/latex": [
       "\\begin{tabular}{r|lllllllllllllllll}\n",
       " age & job & marital & education & default & balance & housing & loan & contact & day & month & duration & campaign & pdays & previous & poutcome & deposit\\\\\n",
       "\\hline\n",
       "\t 55          & services    & married     & secondary   & no          & 2476        & yes         & no          & unknown     & 5           & may         &  579        & 1           & -1          & 0           & unknown     & yes        \\\\\n",
       "\t 54          & admin.      & married     & tertiary    & no          &  184        & no          & no          & unknown     & 5           & may         &  673        & 2           & -1          & 0           & unknown     & yes        \\\\\n",
       "\t 42          & management  & single      & tertiary    & no          &    0        & yes         & yes         & unknown     & 5           & may         &  562        & 2           & -1          & 0           & unknown     & yes        \\\\\n",
       "\t 56          & management  & married     & tertiary    & no          &  830        & yes         & yes         & unknown     & 6           & may         & 1201        & 1           & -1          & 0           & unknown     & yes        \\\\\n",
       "\t 30          & blue-collar & married     & secondary   & no          &  309        & yes         & no          & unknown     & 7           & may         & 1574        & 2           & -1          & 0           & unknown     & yes        \\\\\n",
       "\t 32          & blue-collar & single      & primary     & no          &  611        & yes         & no          & unknown     & 8           & may         &  541        & 3           & -1          & 0           & unknown     & yes        \\\\\n",
       "\\end{tabular}\n"
      ],
      "text/markdown": [
       "\n",
       "| age | job | marital | education | default | balance | housing | loan | contact | day | month | duration | campaign | pdays | previous | poutcome | deposit |\n",
       "|---|---|---|---|---|---|---|---|---|---|---|---|---|---|---|---|---|\n",
       "| 55          | services    | married     | secondary   | no          | 2476        | yes         | no          | unknown     | 5           | may         |  579        | 1           | -1          | 0           | unknown     | yes         |\n",
       "| 54          | admin.      | married     | tertiary    | no          |  184        | no          | no          | unknown     | 5           | may         |  673        | 2           | -1          | 0           | unknown     | yes         |\n",
       "| 42          | management  | single      | tertiary    | no          |    0        | yes         | yes         | unknown     | 5           | may         |  562        | 2           | -1          | 0           | unknown     | yes         |\n",
       "| 56          | management  | married     | tertiary    | no          |  830        | yes         | yes         | unknown     | 6           | may         | 1201        | 1           | -1          | 0           | unknown     | yes         |\n",
       "| 30          | blue-collar | married     | secondary   | no          |  309        | yes         | no          | unknown     | 7           | may         | 1574        | 2           | -1          | 0           | unknown     | yes         |\n",
       "| 32          | blue-collar | single      | primary     | no          |  611        | yes         | no          | unknown     | 8           | may         |  541        | 3           | -1          | 0           | unknown     | yes         |\n",
       "\n"
      ],
      "text/plain": [
       "  age job         marital education default balance housing loan contact day\n",
       "1 55  services    married secondary no      2476    yes     no   unknown 5  \n",
       "2 54  admin.      married tertiary  no       184    no      no   unknown 5  \n",
       "3 42  management  single  tertiary  no         0    yes     yes  unknown 5  \n",
       "4 56  management  married tertiary  no       830    yes     yes  unknown 6  \n",
       "5 30  blue-collar married secondary no       309    yes     no   unknown 7  \n",
       "6 32  blue-collar single  primary   no       611    yes     no   unknown 8  \n",
       "  month duration campaign pdays previous poutcome deposit\n",
       "1 may    579     1        -1    0        unknown  yes    \n",
       "2 may    673     2        -1    0        unknown  yes    \n",
       "3 may    562     2        -1    0        unknown  yes    \n",
       "4 may   1201     1        -1    0        unknown  yes    \n",
       "5 may   1574     2        -1    0        unknown  yes    \n",
       "6 may    541     3        -1    0        unknown  yes    "
      ]
     },
     "metadata": {},
     "output_type": "display_data"
    }
   ],
   "source": [
    "head(test)"
   ]
  },
  {
   "cell_type": "code",
   "execution_count": 3,
   "metadata": {},
   "outputs": [],
   "source": [
    "# convert class label column to factor variable\n",
    "train$deposit = factor(train$deposit)\n",
    "levels(train$deposit) = c(\"No\", \"Yes\")\n",
    "\n",
    "test$deposit = factor(test$deposit)\n",
    "levels(test$deposit) = c(\"No\", \"Yes\")"
   ]
  },
  {
   "cell_type": "code",
   "execution_count": 6,
   "metadata": {},
   "outputs": [
    {
     "data": {
      "text/html": [
       "<table>\n",
       "<thead><tr><th scope=col>age</th><th scope=col>job</th><th scope=col>marital</th><th scope=col>education</th><th scope=col>default</th><th scope=col>balance</th><th scope=col>housing</th><th scope=col>loan</th><th scope=col>contact</th><th scope=col>day</th><th scope=col>month</th><th scope=col>duration</th><th scope=col>campaign</th><th scope=col>pdays</th><th scope=col>previous</th><th scope=col>poutcome</th><th scope=col>deposit</th></tr></thead>\n",
       "<tbody>\n",
       "\t<tr><td>27         </td><td>blue-collar</td><td>married    </td><td>secondary  </td><td>no         </td><td> 61        </td><td>yes        </td><td>no         </td><td>unknown    </td><td>19         </td><td>jun        </td><td>1012       </td><td>1          </td><td> -1        </td><td>0          </td><td>unknown    </td><td>Yes        </td></tr>\n",
       "\t<tr><td>50         </td><td>blue-collar</td><td>divorced   </td><td>secondary  </td><td>no         </td><td>204        </td><td>yes        </td><td>yes        </td><td>unknown    </td><td>14         </td><td>may        </td><td> 421       </td><td>1          </td><td> -1        </td><td>0          </td><td>unknown    </td><td>No         </td></tr>\n",
       "\t<tr><td>34         </td><td>management </td><td>single     </td><td>tertiary   </td><td>no         </td><td>171        </td><td>yes        </td><td>no         </td><td>cellular   </td><td> 7         </td><td>may        </td><td> 191       </td><td>1          </td><td>294        </td><td>1          </td><td>failure    </td><td>No         </td></tr>\n",
       "\t<tr><td>27         </td><td>student    </td><td>single     </td><td>tertiary   </td><td>no         </td><td>118        </td><td>no         </td><td>no         </td><td>cellular   </td><td>31         </td><td>aug        </td><td> 160       </td><td>3          </td><td> 98        </td><td>1          </td><td>failure    </td><td>Yes        </td></tr>\n",
       "\t<tr><td>36         </td><td>management </td><td>single     </td><td>unknown    </td><td>no         </td><td> 62        </td><td>no         </td><td>no         </td><td>cellular   </td><td>13         </td><td>jul        </td><td> 311       </td><td>1          </td><td> 91        </td><td>2          </td><td>success    </td><td>Yes        </td></tr>\n",
       "\t<tr><td>38         </td><td>blue-collar</td><td>single     </td><td>primary    </td><td>no         </td><td>  0        </td><td>yes        </td><td>no         </td><td>cellular   </td><td> 7         </td><td>may        </td><td> 350       </td><td>2          </td><td> -1        </td><td>0          </td><td>unknown    </td><td>No         </td></tr>\n",
       "</tbody>\n",
       "</table>\n"
      ],
      "text/latex": [
       "\\begin{tabular}{r|lllllllllllllllll}\n",
       " age & job & marital & education & default & balance & housing & loan & contact & day & month & duration & campaign & pdays & previous & poutcome & deposit\\\\\n",
       "\\hline\n",
       "\t 27          & blue-collar & married     & secondary   & no          &  61         & yes         & no          & unknown     & 19          & jun         & 1012        & 1           &  -1         & 0           & unknown     & Yes        \\\\\n",
       "\t 50          & blue-collar & divorced    & secondary   & no          & 204         & yes         & yes         & unknown     & 14          & may         &  421        & 1           &  -1         & 0           & unknown     & No         \\\\\n",
       "\t 34          & management  & single      & tertiary    & no          & 171         & yes         & no          & cellular    &  7          & may         &  191        & 1           & 294         & 1           & failure     & No         \\\\\n",
       "\t 27          & student     & single      & tertiary    & no          & 118         & no          & no          & cellular    & 31          & aug         &  160        & 3           &  98         & 1           & failure     & Yes        \\\\\n",
       "\t 36          & management  & single      & unknown     & no          &  62         & no          & no          & cellular    & 13          & jul         &  311        & 1           &  91         & 2           & success     & Yes        \\\\\n",
       "\t 38          & blue-collar & single      & primary     & no          &   0         & yes         & no          & cellular    &  7          & may         &  350        & 2           &  -1         & 0           & unknown     & No         \\\\\n",
       "\\end{tabular}\n"
      ],
      "text/markdown": [
       "\n",
       "| age | job | marital | education | default | balance | housing | loan | contact | day | month | duration | campaign | pdays | previous | poutcome | deposit |\n",
       "|---|---|---|---|---|---|---|---|---|---|---|---|---|---|---|---|---|\n",
       "| 27          | blue-collar | married     | secondary   | no          |  61         | yes         | no          | unknown     | 19          | jun         | 1012        | 1           |  -1         | 0           | unknown     | Yes         |\n",
       "| 50          | blue-collar | divorced    | secondary   | no          | 204         | yes         | yes         | unknown     | 14          | may         |  421        | 1           |  -1         | 0           | unknown     | No          |\n",
       "| 34          | management  | single      | tertiary    | no          | 171         | yes         | no          | cellular    |  7          | may         |  191        | 1           | 294         | 1           | failure     | No          |\n",
       "| 27          | student     | single      | tertiary    | no          | 118         | no          | no          | cellular    | 31          | aug         |  160        | 3           |  98         | 1           | failure     | Yes         |\n",
       "| 36          | management  | single      | unknown     | no          |  62         | no          | no          | cellular    | 13          | jul         |  311        | 1           |  91         | 2           | success     | Yes         |\n",
       "| 38          | blue-collar | single      | primary     | no          |   0         | yes         | no          | cellular    |  7          | may         |  350        | 2           |  -1         | 0           | unknown     | No          |\n",
       "\n"
      ],
      "text/plain": [
       "  age job         marital  education default balance housing loan contact  day\n",
       "1 27  blue-collar married  secondary no       61     yes     no   unknown  19 \n",
       "2 50  blue-collar divorced secondary no      204     yes     yes  unknown  14 \n",
       "3 34  management  single   tertiary  no      171     yes     no   cellular  7 \n",
       "4 27  student     single   tertiary  no      118     no      no   cellular 31 \n",
       "5 36  management  single   unknown   no       62     no      no   cellular 13 \n",
       "6 38  blue-collar single   primary   no        0     yes     no   cellular  7 \n",
       "  month duration campaign pdays previous poutcome deposit\n",
       "1 jun   1012     1         -1   0        unknown  Yes    \n",
       "2 may    421     1         -1   0        unknown  No     \n",
       "3 may    191     1        294   1        failure  No     \n",
       "4 aug    160     3         98   1        failure  Yes    \n",
       "5 jul    311     1         91   2        success  Yes    \n",
       "6 may    350     2         -1   0        unknown  No     "
      ]
     },
     "metadata": {},
     "output_type": "display_data"
    }
   ],
   "source": [
    "head(train)"
   ]
  },
  {
   "cell_type": "code",
   "execution_count": 7,
   "metadata": {},
   "outputs": [
    {
     "data": {
      "text/html": [
       "<table>\n",
       "<thead><tr><th scope=col>age</th><th scope=col>job</th><th scope=col>marital</th><th scope=col>education</th><th scope=col>default</th><th scope=col>balance</th><th scope=col>housing</th><th scope=col>loan</th><th scope=col>contact</th><th scope=col>day</th><th scope=col>month</th><th scope=col>duration</th><th scope=col>campaign</th><th scope=col>pdays</th><th scope=col>previous</th><th scope=col>poutcome</th><th scope=col>deposit</th></tr></thead>\n",
       "<tbody>\n",
       "\t<tr><td>55         </td><td>services   </td><td>married    </td><td>secondary  </td><td>no         </td><td>2476       </td><td>yes        </td><td>no         </td><td>unknown    </td><td>5          </td><td>may        </td><td> 579       </td><td>1          </td><td>-1         </td><td>0          </td><td>unknown    </td><td>Yes        </td></tr>\n",
       "\t<tr><td>54         </td><td>admin.     </td><td>married    </td><td>tertiary   </td><td>no         </td><td> 184       </td><td>no         </td><td>no         </td><td>unknown    </td><td>5          </td><td>may        </td><td> 673       </td><td>2          </td><td>-1         </td><td>0          </td><td>unknown    </td><td>Yes        </td></tr>\n",
       "\t<tr><td>42         </td><td>management </td><td>single     </td><td>tertiary   </td><td>no         </td><td>   0       </td><td>yes        </td><td>yes        </td><td>unknown    </td><td>5          </td><td>may        </td><td> 562       </td><td>2          </td><td>-1         </td><td>0          </td><td>unknown    </td><td>Yes        </td></tr>\n",
       "\t<tr><td>56         </td><td>management </td><td>married    </td><td>tertiary   </td><td>no         </td><td> 830       </td><td>yes        </td><td>yes        </td><td>unknown    </td><td>6          </td><td>may        </td><td>1201       </td><td>1          </td><td>-1         </td><td>0          </td><td>unknown    </td><td>Yes        </td></tr>\n",
       "\t<tr><td>30         </td><td>blue-collar</td><td>married    </td><td>secondary  </td><td>no         </td><td> 309       </td><td>yes        </td><td>no         </td><td>unknown    </td><td>7          </td><td>may        </td><td>1574       </td><td>2          </td><td>-1         </td><td>0          </td><td>unknown    </td><td>Yes        </td></tr>\n",
       "\t<tr><td>32         </td><td>blue-collar</td><td>single     </td><td>primary    </td><td>no         </td><td> 611       </td><td>yes        </td><td>no         </td><td>unknown    </td><td>8          </td><td>may        </td><td> 541       </td><td>3          </td><td>-1         </td><td>0          </td><td>unknown    </td><td>Yes        </td></tr>\n",
       "</tbody>\n",
       "</table>\n"
      ],
      "text/latex": [
       "\\begin{tabular}{r|lllllllllllllllll}\n",
       " age & job & marital & education & default & balance & housing & loan & contact & day & month & duration & campaign & pdays & previous & poutcome & deposit\\\\\n",
       "\\hline\n",
       "\t 55          & services    & married     & secondary   & no          & 2476        & yes         & no          & unknown     & 5           & may         &  579        & 1           & -1          & 0           & unknown     & Yes        \\\\\n",
       "\t 54          & admin.      & married     & tertiary    & no          &  184        & no          & no          & unknown     & 5           & may         &  673        & 2           & -1          & 0           & unknown     & Yes        \\\\\n",
       "\t 42          & management  & single      & tertiary    & no          &    0        & yes         & yes         & unknown     & 5           & may         &  562        & 2           & -1          & 0           & unknown     & Yes        \\\\\n",
       "\t 56          & management  & married     & tertiary    & no          &  830        & yes         & yes         & unknown     & 6           & may         & 1201        & 1           & -1          & 0           & unknown     & Yes        \\\\\n",
       "\t 30          & blue-collar & married     & secondary   & no          &  309        & yes         & no          & unknown     & 7           & may         & 1574        & 2           & -1          & 0           & unknown     & Yes        \\\\\n",
       "\t 32          & blue-collar & single      & primary     & no          &  611        & yes         & no          & unknown     & 8           & may         &  541        & 3           & -1          & 0           & unknown     & Yes        \\\\\n",
       "\\end{tabular}\n"
      ],
      "text/markdown": [
       "\n",
       "| age | job | marital | education | default | balance | housing | loan | contact | day | month | duration | campaign | pdays | previous | poutcome | deposit |\n",
       "|---|---|---|---|---|---|---|---|---|---|---|---|---|---|---|---|---|\n",
       "| 55          | services    | married     | secondary   | no          | 2476        | yes         | no          | unknown     | 5           | may         |  579        | 1           | -1          | 0           | unknown     | Yes         |\n",
       "| 54          | admin.      | married     | tertiary    | no          |  184        | no          | no          | unknown     | 5           | may         |  673        | 2           | -1          | 0           | unknown     | Yes         |\n",
       "| 42          | management  | single      | tertiary    | no          |    0        | yes         | yes         | unknown     | 5           | may         |  562        | 2           | -1          | 0           | unknown     | Yes         |\n",
       "| 56          | management  | married     | tertiary    | no          |  830        | yes         | yes         | unknown     | 6           | may         | 1201        | 1           | -1          | 0           | unknown     | Yes         |\n",
       "| 30          | blue-collar | married     | secondary   | no          |  309        | yes         | no          | unknown     | 7           | may         | 1574        | 2           | -1          | 0           | unknown     | Yes         |\n",
       "| 32          | blue-collar | single      | primary     | no          |  611        | yes         | no          | unknown     | 8           | may         |  541        | 3           | -1          | 0           | unknown     | Yes         |\n",
       "\n"
      ],
      "text/plain": [
       "  age job         marital education default balance housing loan contact day\n",
       "1 55  services    married secondary no      2476    yes     no   unknown 5  \n",
       "2 54  admin.      married tertiary  no       184    no      no   unknown 5  \n",
       "3 42  management  single  tertiary  no         0    yes     yes  unknown 5  \n",
       "4 56  management  married tertiary  no       830    yes     yes  unknown 6  \n",
       "5 30  blue-collar married secondary no       309    yes     no   unknown 7  \n",
       "6 32  blue-collar single  primary   no       611    yes     no   unknown 8  \n",
       "  month duration campaign pdays previous poutcome deposit\n",
       "1 may    579     1        -1    0        unknown  Yes    \n",
       "2 may    673     2        -1    0        unknown  Yes    \n",
       "3 may    562     2        -1    0        unknown  Yes    \n",
       "4 may   1201     1        -1    0        unknown  Yes    \n",
       "5 may   1574     2        -1    0        unknown  Yes    \n",
       "6 may    541     3        -1    0        unknown  Yes    "
      ]
     },
     "metadata": {},
     "output_type": "display_data"
    }
   ],
   "source": [
    "head(test)"
   ]
  },
  {
   "cell_type": "markdown",
   "metadata": {},
   "source": [
    "Create Tree"
   ]
  },
  {
   "cell_type": "code",
   "execution_count": 4,
   "metadata": {},
   "outputs": [
    {
     "data": {
      "text/plain": [
       "\n",
       "  No  Yes \n",
       "4128 3685 "
      ]
     },
     "metadata": {},
     "output_type": "display_data"
    }
   ],
   "source": [
    "table(train$deposit)"
   ]
  },
  {
   "cell_type": "code",
   "execution_count": 5,
   "metadata": {},
   "outputs": [
    {
     "name": "stderr",
     "output_type": "stream",
     "text": [
      "Warning message:\n",
      "\"package 'rpart.plot' was built under R version 3.6.3\""
     ]
    }
   ],
   "source": [
    "library(rpart)\n",
    "library(rpart.plot)"
   ]
  },
  {
   "cell_type": "markdown",
   "metadata": {},
   "source": [
    "<font color=\"red\"> create tree, do we need to check the best CP</font>"
   ]
  },
  {
   "cell_type": "code",
   "execution_count": 6,
   "metadata": {},
   "outputs": [
    {
     "data": {
      "image/png": "[encoded data removed]",
      "text/plain": [
       "plot without title"
      ]
     },
     "metadata": {},
     "output_type": "display_data"
    }
   ],
   "source": [
    "tree1.gini = rpart(deposit ~ ., data = train, parms = list(split = \"gini\"), method = \"class\")\n",
    "plotcp(tree1.gini)"
   ]
  },
  {
   "cell_type": "code",
   "execution_count": 7,
   "metadata": {},
   "outputs": [],
   "source": [
    "tree = rpart(deposit ~ ., data = train, parms = list(split = \"gini\"), method = \"class\"， cp = 0.016)"
   ]
  },
  {
   "cell_type": "code",
   "execution_count": 8,
   "metadata": {},
   "outputs": [
    {
     "data": {
      "text/plain": [
       "          \n",
       "train_pred   No  Yes\n",
       "       No  3036  386\n",
       "       Yes 1092 3299"
      ]
     },
     "metadata": {},
     "output_type": "display_data"
    }
   ],
   "source": [
    "# training error\n",
    "train_pred = predict(tree, train, type = \"class\")\n",
    "table(train_pred, train$deposit)"
   ]
  },
  {
   "cell_type": "code",
   "execution_count": 9,
   "metadata": {},
   "outputs": [
    {
     "data": {
      "text/html": [
       "0.189171892998848"
      ],
      "text/latex": [
       "0.189171892998848"
      ],
      "text/markdown": [
       "0.189171892998848"
      ],
      "text/plain": [
       "[1] 0.1891719"
      ]
     },
     "metadata": {},
     "output_type": "display_data"
    }
   ],
   "source": [
    "train_err = mean(train_pred != train$deposit)\n",
    "train_err"
   ]
  },
  {
   "cell_type": "code",
   "execution_count": 10,
   "metadata": {},
   "outputs": [
    {
     "data": {
      "text/html": [
       "<ol class=list-inline>\n",
       "\t<li>3349</li>\n",
       "\t<li>17</li>\n",
       "</ol>\n"
      ],
      "text/latex": [
       "\\begin{enumerate*}\n",
       "\\item 3349\n",
       "\\item 17\n",
       "\\end{enumerate*}\n"
      ],
      "text/markdown": [
       "1. 3349\n",
       "2. 17\n",
       "\n",
       "\n"
      ],
      "text/plain": [
       "[1] 3349   17"
      ]
     },
     "metadata": {},
     "output_type": "display_data"
    }
   ],
   "source": [
    "dim(test)"
   ]
  },
  {
   "cell_type": "code",
   "execution_count": 11,
   "metadata": {},
   "outputs": [
    {
     "data": {
      "text/plain": [
       "         \n",
       "test_pred   No  Yes\n",
       "      No  1295  160\n",
       "      Yes  450 1444"
      ]
     },
     "metadata": {},
     "output_type": "display_data"
    }
   ],
   "source": [
    "# testing error\n",
    "test_pred = predict(tree, test, type = \"class\")\n",
    "table(test_pred, test$deposit)"
   ]
  },
  {
   "cell_type": "code",
   "execution_count": 12,
   "metadata": {},
   "outputs": [
    {
     "data": {
      "text/html": [
       "0.182143923559271"
      ],
      "text/latex": [
       "0.182143923559271"
      ],
      "text/markdown": [
       "0.182143923559271"
      ],
      "text/plain": [
       "[1] 0.1821439"
      ]
     },
     "metadata": {},
     "output_type": "display_data"
    }
   ],
   "source": [
    "test_err = mean(test_pred != test$deposit)\n",
    "test_err"
   ]
  },
  {
   "cell_type": "code",
   "execution_count": 13,
   "metadata": {},
   "outputs": [
    {
     "data": {
      "text/html": [
       "<ol class=list-inline>\n",
       "\t<li>1745</li>\n",
       "\t<li>17</li>\n",
       "</ol>\n"
      ],
      "text/latex": [
       "\\begin{enumerate*}\n",
       "\\item 1745\n",
       "\\item 17\n",
       "\\end{enumerate*}\n"
      ],
      "text/markdown": [
       "1. 1745\n",
       "2. 17\n",
       "\n",
       "\n"
      ],
      "text/plain": [
       "[1] 1745   17"
      ]
     },
     "metadata": {},
     "output_type": "display_data"
    }
   ],
   "source": [
    "test_no = test[which(test$deposit == \"No\"),]\n",
    "test_yes = test[which(test$deposit == \"Yes\"),]\n",
    "dim(test_no)"
   ]
  },
  {
   "cell_type": "code",
   "execution_count": 14,
   "metadata": {},
   "outputs": [
    {
     "data": {
      "text/plain": [
       "            \n",
       "test_no_pred   No  Yes\n",
       "         No  1295    0\n",
       "         Yes  450    0"
      ]
     },
     "metadata": {},
     "output_type": "display_data"
    }
   ],
   "source": [
    "# testing error for no deposit\n",
    "test_no_pred = predict(tree, test_no, type = \"class\")\n",
    "table(test_no_pred, test_no$deposit)"
   ]
  },
  {
   "cell_type": "code",
   "execution_count": 15,
   "metadata": {},
   "outputs": [
    {
     "data": {
      "text/html": [
       "0.257879656160458"
      ],
      "text/latex": [
       "0.257879656160458"
      ],
      "text/markdown": [
       "0.257879656160458"
      ],
      "text/plain": [
       "[1] 0.2578797"
      ]
     },
     "metadata": {},
     "output_type": "display_data"
    }
   ],
   "source": [
    "test_no_err = mean(test_no_pred != test_no$deposit)\n",
    "test_no_err"
   ]
  },
  {
   "cell_type": "code",
   "execution_count": 16,
   "metadata": {},
   "outputs": [
    {
     "data": {
      "text/plain": [
       "             \n",
       "test_yes_pred   No  Yes\n",
       "          No     0  160\n",
       "          Yes    0 1444"
      ]
     },
     "metadata": {},
     "output_type": "display_data"
    }
   ],
   "source": [
    "# testing error for yes deposit\n",
    "test_yes_pred = predict(tree, test_yes, type = \"class\")\n",
    "table(test_yes_pred, test_yes$deposit)"
   ]
  },
  {
   "cell_type": "code",
   "execution_count": 17,
   "metadata": {},
   "outputs": [
    {
     "data": {
      "text/html": [
       "0.0997506234413965"
      ],
      "text/latex": [
       "0.0997506234413965"
      ],
      "text/markdown": [
       "0.0997506234413965"
      ],
      "text/plain": [
       "[1] 0.09975062"
      ]
     },
     "metadata": {},
     "output_type": "display_data"
    }
   ],
   "source": [
    "test_yes_err = mean(test_yes_pred != test_yes$deposit)\n",
    "test_yes_err"
   ]
  },
  {
   "cell_type": "markdown",
   "metadata": {},
   "source": [
    "**b)** Plot a subtree of the optimal tree that has at most 8 terminal\n",
    "nodes. What are some of the variables that were used in tree\n",
    "construction?\n",
    "\n",
    "<font color = \"red\">what is optimal tree? how to limit terminal nodes?</font>"
   ]
  },
  {
   "cell_type": "code",
   "execution_count": 20,
   "metadata": {},
   "outputs": [
    {
     "name": "stderr",
     "output_type": "stream",
     "text": [
      "Warning message:\n",
      "\"package 'rattle' was built under R version 3.6.3\"Rattle: A free graphical interface for data science with R.\n",
      "XXXX 5.3.0 Copyright (c) 2006-2018 Togaware Pty Ltd.\n",
      "Type 'rattle()' to shake, rattle, and roll your data.\n"
     ]
    }
   ],
   "source": [
    "library(rattle)\n",
    "#library(tree)"
   ]
  },
  {
   "cell_type": "code",
   "execution_count": 21,
   "metadata": {},
   "outputs": [
    {
     "name": "stdout",
     "output_type": "stream",
     "text": [
      "\n",
      "Classification tree:\n",
      "rpart(formula = deposit ~ ., data = train, method = \"class\", \n",
      "    parms = list(split = \"gini\"), cp = 0.016)\n",
      "\n",
      "Variables actually used in tree construction:\n",
      "[1] contact  duration housing  month    poutcome\n",
      "\n",
      "Root node error: 3685/7813 = 0.47165\n",
      "\n",
      "n= 7813 \n",
      "\n",
      "        CP nsplit rel error  xerror      xstd\n",
      "1 0.377748      0   1.00000 1.00000 0.0119741\n",
      "2 0.047761      1   0.62225 0.63474 0.0109855\n",
      "3 0.025237      3   0.52673 0.49145 0.0101219\n",
      "4 0.020081      5   0.47626 0.47951 0.0100347\n",
      "5 0.018589      6   0.45617 0.45427 0.0098419\n",
      "6 0.017910      8   0.41900 0.44125 0.0097376\n",
      "7 0.016000      9   0.40109 0.42904 0.0096368\n"
     ]
    }
   ],
   "source": [
    "printcp(tree)"
   ]
  },
  {
   "cell_type": "code",
   "execution_count": 25,
   "metadata": {},
   "outputs": [],
   "source": [
    "tree_sub = prune(tree, cp=0.0186)\n",
    "#tree_sub = rpart(deposit ~ ., data = train, parms = list(split = \"gini\"), method = \"class\", cp=0.0186)"
   ]
  },
  {
   "cell_type": "code",
   "execution_count": 26,
   "metadata": {},
   "outputs": [
    {
     "data": {
      "image/png": "[encoded data removed]",
      "text/plain": [
       "Plot with title \"\""
      ]
     },
     "metadata": {},
     "output_type": "display_data"
    }
   ],
   "source": [
    "fancyRpartPlot(tree_sub)"
   ]
  },
  {
   "cell_type": "markdown",
   "metadata": {},
   "source": [
    "**c)** Try (a) again using Random Forest. Use the “importance()”\n",
    "function to determine which variables are most important. Describe\n",
    "the effect of mtry, nodesize, and ntree on the error rate\n",
    "obtained."
   ]
  },
  {
   "cell_type": "code",
   "execution_count": 8,
   "metadata": {},
   "outputs": [
    {
     "name": "stderr",
     "output_type": "stream",
     "text": [
      "randomForest 4.6-14\n",
      "Type rfNews() to see new features/changes/bug fixes.\n"
     ]
    }
   ],
   "source": [
    "library(randomForest)"
   ]
  },
  {
   "cell_type": "code",
   "execution_count": 9,
   "metadata": {},
   "outputs": [
    {
     "data": {
      "text/plain": [
       "\n",
       "Call:\n",
       " randomForest(formula = deposit ~ ., data = train, mtry = floor(sqrt(17)),      importance = TRUE) \n",
       "               Type of random forest: classification\n",
       "                     Number of trees: 500\n",
       "No. of variables tried at each split: 4\n",
       "\n",
       "        OOB estimate of  error rate: 13.94%\n",
       "Confusion matrix:\n",
       "      No  Yes class.error\n",
       "No  3407  721  0.17466085\n",
       "Yes  368 3317  0.09986431"
      ]
     },
     "metadata": {},
     "output_type": "display_data"
    }
   ],
   "source": [
    "rf_c = randomForest(deposit ~., data = train, mtry = floor(sqrt(17)), importance = TRUE)\n",
    "rf_c"
   ]
  },
  {
   "cell_type": "code",
   "execution_count": 10,
   "metadata": {},
   "outputs": [
    {
     "data": {
      "text/html": [
       "<table>\n",
       "<thead><tr><th></th><th scope=col>No</th><th scope=col>Yes</th><th scope=col>MeanDecreaseAccuracy</th><th scope=col>MeanDecreaseGini</th></tr></thead>\n",
       "<tbody>\n",
       "\t<tr><th scope=row>age</th><td> 32.481897 </td><td> 15.6031024</td><td> 36.759136 </td><td> 264.16742 </td></tr>\n",
       "\t<tr><th scope=row>job</th><td> 25.875700 </td><td>  5.0376527</td><td> 21.976610 </td><td> 226.11986 </td></tr>\n",
       "\t<tr><th scope=row>marital</th><td>  4.833804 </td><td> 13.2396276</td><td> 13.896486 </td><td>  62.98191 </td></tr>\n",
       "\t<tr><th scope=row>education</th><td> 12.365198 </td><td>  4.2389734</td><td> 12.133578 </td><td>  79.05101 </td></tr>\n",
       "\t<tr><th scope=row>default</th><td> -2.683011 </td><td>  0.5889492</td><td> -1.187923 </td><td>   4.25192 </td></tr>\n",
       "\t<tr><th scope=row>balance</th><td> 14.936768 </td><td> 11.7283109</td><td> 19.205334 </td><td> 286.91387 </td></tr>\n",
       "\t<tr><th scope=row>housing</th><td> 35.836638 </td><td> 29.5562968</td><td> 45.782818 </td><td> 108.90493 </td></tr>\n",
       "\t<tr><th scope=row>loan</th><td>  1.743471 </td><td> 13.8528414</td><td> 11.787271 </td><td>  28.87057 </td></tr>\n",
       "\t<tr><th scope=row>contact</th><td> 49.026740 </td><td> 18.8581786</td><td> 53.773325 </td><td> 140.77010 </td></tr>\n",
       "\t<tr><th scope=row>day</th><td> 50.066210 </td><td>  8.6883689</td><td> 46.540680 </td><td> 256.06525 </td></tr>\n",
       "\t<tr><th scope=row>month</th><td> 99.163447 </td><td> 39.1215237</td><td>109.141089 </td><td> 496.17241 </td></tr>\n",
       "\t<tr><th scope=row>duration</th><td>207.291405 </td><td>252.4095785</td><td>286.641054 </td><td>1338.35888 </td></tr>\n",
       "\t<tr><th scope=row>campaign</th><td> 12.547002 </td><td> 16.6652275</td><td> 21.437494 </td><td> 111.22938 </td></tr>\n",
       "\t<tr><th scope=row>pdays</th><td> 21.567148 </td><td> 18.7204581</td><td> 28.801054 </td><td> 140.39579 </td></tr>\n",
       "\t<tr><th scope=row>previous</th><td> 18.043791 </td><td> 11.8568804</td><td> 18.878727 </td><td>  91.56679 </td></tr>\n",
       "\t<tr><th scope=row>poutcome</th><td> 52.323904 </td><td>  7.4080697</td><td> 42.718496 </td><td> 204.04487 </td></tr>\n",
       "</tbody>\n",
       "</table>\n"
      ],
      "text/latex": [
       "\\begin{tabular}{r|llll}\n",
       "  & No & Yes & MeanDecreaseAccuracy & MeanDecreaseGini\\\\\n",
       "\\hline\n",
       "\tage &  32.481897  &  15.6031024 &  36.759136  &  264.16742 \\\\\n",
       "\tjob &  25.875700  &   5.0376527 &  21.976610  &  226.11986 \\\\\n",
       "\tmarital &   4.833804  &  13.2396276 &  13.896486  &   62.98191 \\\\\n",
       "\teducation &  12.365198  &   4.2389734 &  12.133578  &   79.05101 \\\\\n",
       "\tdefault &  -2.683011  &   0.5889492 &  -1.187923  &    4.25192 \\\\\n",
       "\tbalance &  14.936768  &  11.7283109 &  19.205334  &  286.91387 \\\\\n",
       "\thousing &  35.836638  &  29.5562968 &  45.782818  &  108.90493 \\\\\n",
       "\tloan &   1.743471  &  13.8528414 &  11.787271  &   28.87057 \\\\\n",
       "\tcontact &  49.026740  &  18.8581786 &  53.773325  &  140.77010 \\\\\n",
       "\tday &  50.066210  &   8.6883689 &  46.540680  &  256.06525 \\\\\n",
       "\tmonth &  99.163447  &  39.1215237 & 109.141089  &  496.17241 \\\\\n",
       "\tduration & 207.291405  & 252.4095785 & 286.641054  & 1338.35888 \\\\\n",
       "\tcampaign &  12.547002  &  16.6652275 &  21.437494  &  111.22938 \\\\\n",
       "\tpdays &  21.567148  &  18.7204581 &  28.801054  &  140.39579 \\\\\n",
       "\tprevious &  18.043791  &  11.8568804 &  18.878727  &   91.56679 \\\\\n",
       "\tpoutcome &  52.323904  &   7.4080697 &  42.718496  &  204.04487 \\\\\n",
       "\\end{tabular}\n"
      ],
      "text/markdown": [
       "\n",
       "| <!--/--> | No | Yes | MeanDecreaseAccuracy | MeanDecreaseGini |\n",
       "|---|---|---|---|---|\n",
       "| age |  32.481897  |  15.6031024 |  36.759136  |  264.16742  |\n",
       "| job |  25.875700  |   5.0376527 |  21.976610  |  226.11986  |\n",
       "| marital |   4.833804  |  13.2396276 |  13.896486  |   62.98191  |\n",
       "| education |  12.365198  |   4.2389734 |  12.133578  |   79.05101  |\n",
       "| default |  -2.683011  |   0.5889492 |  -1.187923  |    4.25192  |\n",
       "| balance |  14.936768  |  11.7283109 |  19.205334  |  286.91387  |\n",
       "| housing |  35.836638  |  29.5562968 |  45.782818  |  108.90493  |\n",
       "| loan |   1.743471  |  13.8528414 |  11.787271  |   28.87057  |\n",
       "| contact |  49.026740  |  18.8581786 |  53.773325  |  140.77010  |\n",
       "| day |  50.066210  |   8.6883689 |  46.540680  |  256.06525  |\n",
       "| month |  99.163447  |  39.1215237 | 109.141089  |  496.17241  |\n",
       "| duration | 207.291405  | 252.4095785 | 286.641054  | 1338.35888  |\n",
       "| campaign |  12.547002  |  16.6652275 |  21.437494  |  111.22938  |\n",
       "| pdays |  21.567148  |  18.7204581 |  28.801054  |  140.39579  |\n",
       "| previous |  18.043791  |  11.8568804 |  18.878727  |   91.56679  |\n",
       "| poutcome |  52.323904  |   7.4080697 |  42.718496  |  204.04487  |\n",
       "\n"
      ],
      "text/plain": [
       "          No         Yes         MeanDecreaseAccuracy MeanDecreaseGini\n",
       "age        32.481897  15.6031024  36.759136            264.16742      \n",
       "job        25.875700   5.0376527  21.976610            226.11986      \n",
       "marital     4.833804  13.2396276  13.896486             62.98191      \n",
       "education  12.365198   4.2389734  12.133578             79.05101      \n",
       "default    -2.683011   0.5889492  -1.187923              4.25192      \n",
       "balance    14.936768  11.7283109  19.205334            286.91387      \n",
       "housing    35.836638  29.5562968  45.782818            108.90493      \n",
       "loan        1.743471  13.8528414  11.787271             28.87057      \n",
       "contact    49.026740  18.8581786  53.773325            140.77010      \n",
       "day        50.066210   8.6883689  46.540680            256.06525      \n",
       "month      99.163447  39.1215237 109.141089            496.17241      \n",
       "duration  207.291405 252.4095785 286.641054           1338.35888      \n",
       "campaign   12.547002  16.6652275  21.437494            111.22938      \n",
       "pdays      21.567148  18.7204581  28.801054            140.39579      \n",
       "previous   18.043791  11.8568804  18.878727             91.56679      \n",
       "poutcome   52.323904   7.4080697  42.718496            204.04487      "
      ]
     },
     "metadata": {},
     "output_type": "display_data"
    }
   ],
   "source": [
    "importance(rf_c)"
   ]
  },
  {
   "cell_type": "code",
   "execution_count": 87,
   "metadata": {},
   "outputs": [
    {
     "data": {
      "image/png": "[encoded data removed]",
      "text/plain": [
       "plot without title"
      ]
     },
     "metadata": {},
     "output_type": "display_data"
    }
   ],
   "source": [
    "varImpPlot(rf_c)"
   ]
  },
  {
   "cell_type": "code",
   "execution_count": 82,
   "metadata": {},
   "outputs": [
    {
     "data": {
      "text/plain": [
       "             \n",
       "rf_train_pred   No  Yes\n",
       "          No  4128    0\n",
       "          Yes    0 3685"
      ]
     },
     "metadata": {},
     "output_type": "display_data"
    }
   ],
   "source": [
    "# training error\n",
    "rf_train_pred = predict(rf_c, newdata=train)\n",
    "table(rf_train_pred, train$deposit)"
   ]
  },
  {
   "cell_type": "code",
   "execution_count": 88,
   "metadata": {},
   "outputs": [
    {
     "data": {
      "text/html": [
       "0"
      ],
      "text/latex": [
       "0"
      ],
      "text/markdown": [
       "0"
      ],
      "text/plain": [
       "[1] 0"
      ]
     },
     "metadata": {},
     "output_type": "display_data"
    }
   ],
   "source": [
    "rf_train_err = mean(rf_train_pred != train$deposit)\n",
    "rf_train_err"
   ]
  },
  {
   "cell_type": "code",
   "execution_count": 89,
   "metadata": {},
   "outputs": [
    {
     "data": {
      "text/plain": [
       "            \n",
       "rf_test_pred   No  Yes\n",
       "         No  1430  168\n",
       "         Yes  315 1436"
      ]
     },
     "metadata": {},
     "output_type": "display_data"
    }
   ],
   "source": [
    "# testing error\n",
    "rf_test_pred = predict(rf_c, newdata=test)\n",
    "table(rf_test_pred, test$deposit)"
   ]
  },
  {
   "cell_type": "code",
   "execution_count": 90,
   "metadata": {},
   "outputs": [
    {
     "data": {
      "text/html": [
       "0.144222155867423"
      ],
      "text/latex": [
       "0.144222155867423"
      ],
      "text/markdown": [
       "0.144222155867423"
      ],
      "text/plain": [
       "[1] 0.1442222"
      ]
     },
     "metadata": {},
     "output_type": "display_data"
    }
   ],
   "source": [
    "rf_test_err = mean(rf_test_pred != test$deposit)\n",
    "rf_test_err"
   ]
  },
  {
   "cell_type": "code",
   "execution_count": 4,
   "metadata": {},
   "outputs": [
    {
     "name": "stderr",
     "output_type": "stream",
     "text": [
      "Warning message:\n",
      "\"package 'dplyr' was built under R version 3.6.2\"\n",
      "Attaching package: 'dplyr'\n",
      "\n",
      "The following objects are masked from 'package:stats':\n",
      "\n",
      "    filter, lag\n",
      "\n",
      "The following objects are masked from 'package:base':\n",
      "\n",
      "    intersect, setdiff, setequal, union\n",
      "\n",
      "Warning message:\n",
      "\"package 'ggplot2' was built under R version 3.6.2\""
     ]
    }
   ],
   "source": [
    "library(dplyr)\n",
    "library(ggplot2)"
   ]
  },
  {
   "cell_type": "code",
   "execution_count": 25,
   "metadata": {},
   "outputs": [],
   "source": [
    "mtry_val = c(2, 3, 4, 5, 6, 7, 8, 9, 10, 12, 14, 16)\n",
    "test_error = c()\n",
    "for (i in 1:length(mtry_val)){\n",
    "    rf_c = randomForest(deposit ~., data = train, mtry = mtry_val[i], importance = TRUE, ntree = 64, nodesize = 5)\n",
    "    rf_test_pred = predict(rf_c, newdata=test)\n",
    "    test_error[i] = mean(rf_test_pred != test$deposit)    \n",
    "}"
   ]
  },
  {
   "cell_type": "code",
   "execution_count": 26,
   "metadata": {},
   "outputs": [
    {
     "data": {
      "image/png": "[encoded data removed]",
      "text/plain": [
       "plot without title"
      ]
     },
     "metadata": {},
     "output_type": "display_data"
    }
   ],
   "source": [
    "errors = data.frame(test_error, mtry_val)\n",
    "ggplot(errors,color = Error, aes(x = mtry_val)) + \n",
    "  geom_line(aes(y = test_error), col = \"blue\") + geom_point(aes(y = test_error), col = \"blue\") +\n",
    "  ylab(\"Error Rate\") + xlab(\"mtry\") + ggtitle(\"effect of mtry on test error\") + \n",
    "  theme_minimal()"
   ]
  },
  {
   "cell_type": "code",
   "execution_count": 23,
   "metadata": {},
   "outputs": [],
   "source": [
    "ntree_val = c(64, 72, 80, 88, 96, 104, 112, 120, 128)\n",
    "test_error = c()\n",
    "for (i in 1:length(ntree_val)){\n",
    "    rf_c = randomForest(deposit ~., data = train, mtry = floor(sqrt(17)), importance = TRUE, ntree = ntree_val[i], nodesize = 5)\n",
    "    rf_test_pred = predict(rf_c, newdata=test)\n",
    "    test_error[i] = mean(rf_test_pred != test$deposit)    \n",
    "}"
   ]
  },
  {
   "cell_type": "code",
   "execution_count": 24,
   "metadata": {},
   "outputs": [
    {
     "data": {
      "image/png": "[encoded data removed]",
      "text/plain": [
       "plot without title"
      ]
     },
     "metadata": {},
     "output_type": "display_data"
    }
   ],
   "source": [
    "errors = data.frame(test_error, ntree_val)\n",
    "ggplot(errors,color = Error, aes(x = ntree_val)) + \n",
    "  geom_line(aes(y = test_error), col = \"blue\") + geom_point(aes(y = test_error), col = \"blue\") +\n",
    "  ylab(\"Error Rate\") + xlab(\"ntree\") + ggtitle(\"effect of ntree on test error\") + \n",
    "  theme_minimal()"
   ]
  },
  {
   "cell_type": "code",
   "execution_count": 29,
   "metadata": {},
   "outputs": [],
   "source": [
    "nodesize_val = c(2, 4, 6, 8, 10, 12, 14, 16, 18, 20, 30, 40, 50)\n",
    "test_error = c()\n",
    "for (i in 1:length(nodesize_val)){\n",
    "    rf_c = randomForest(deposit ~., data = train, mtry = floor(sqrt(17)), importance = TRUE, ntree = 88, nodesize = nodesize_val[i])\n",
    "    rf_test_pred = predict(rf_c, newdata=test)\n",
    "    test_error[i] = mean(rf_test_pred != test$deposit)    \n",
    "}"
   ]
  },
  {
   "cell_type": "code",
   "execution_count": 30,
   "metadata": {},
   "outputs": [
    {
     "data": {
      "image/png": "[encoded data removed]",
      "text/plain": [
       "plot without title"
      ]
     },
     "metadata": {},
     "output_type": "display_data"
    }
   ],
   "source": [
    "errors = data.frame(test_error, nodesize_val)\n",
    "ggplot(errors,color = Error, aes(x = nodesize_val)) + \n",
    "  geom_line(aes(y = test_error), col = \"blue\") + geom_point(aes(y = test_error), col = \"blue\") +\n",
    "  ylab(\"Error Rate\") + xlab(\"node size\") + ggtitle(\"effect of node size on test error\") + \n",
    "  theme_minimal()"
   ]
  },
  {
   "cell_type": "markdown",
   "metadata": {},
   "source": [
    "**d）**Try (a) again using Boosting. Use the “summary()” function\n",
    "to determine which variables are most important. Describe the\n",
    "effect of interaction.depth, shrinkage, and n.trees on the\n",
    "error rate obtained."
   ]
  },
  {
   "cell_type": "code",
   "execution_count": 6,
   "metadata": {},
   "outputs": [
    {
     "name": "stderr",
     "output_type": "stream",
     "text": [
      "Warning message:\n",
      "\"package 'gbm' was built under R version 3.6.3\"Loaded gbm 2.1.5\n"
     ]
    }
   ],
   "source": [
    "library(gbm)"
   ]
  },
  {
   "cell_type": "code",
   "execution_count": 7,
   "metadata": {},
   "outputs": [],
   "source": [
    "train$deposit = ifelse(train$deposit == \"Yes\", 1, 0)\n",
    "test$deposit = ifelse(test$deposit == \"Yes\", 1, 0)"
   ]
  },
  {
   "cell_type": "code",
   "execution_count": 97,
   "metadata": {},
   "outputs": [],
   "source": [
    "ada_mod = gbm(deposit ~., data=train, distribution=\"adaboost\", n.trees=5000,\n",
    "              interaction.depth=3, shrinkage = 0.01)"
   ]
  },
  {
   "cell_type": "code",
   "execution_count": 98,
   "metadata": {},
   "outputs": [
    {
     "data": {
      "text/html": [
       "<table>\n",
       "<thead><tr><th></th><th scope=col>var</th><th scope=col>rel.inf</th></tr></thead>\n",
       "<tbody>\n",
       "\t<tr><th scope=row>duration</th><td>duration   </td><td>26.86266542</td></tr>\n",
       "\t<tr><th scope=row>month</th><td>month      </td><td>22.52350606</td></tr>\n",
       "\t<tr><th scope=row>job</th><td>job        </td><td>11.42012639</td></tr>\n",
       "\t<tr><th scope=row>balance</th><td>balance    </td><td>10.09836012</td></tr>\n",
       "\t<tr><th scope=row>age</th><td>age        </td><td> 5.75262312</td></tr>\n",
       "\t<tr><th scope=row>day</th><td>day        </td><td> 5.70853442</td></tr>\n",
       "\t<tr><th scope=row>poutcome</th><td>poutcome   </td><td> 4.59250217</td></tr>\n",
       "\t<tr><th scope=row>pdays</th><td>pdays      </td><td> 3.20629747</td></tr>\n",
       "\t<tr><th scope=row>contact</th><td>contact    </td><td> 3.01611751</td></tr>\n",
       "\t<tr><th scope=row>campaign</th><td>campaign   </td><td> 1.55513761</td></tr>\n",
       "\t<tr><th scope=row>education</th><td>education  </td><td> 1.52260266</td></tr>\n",
       "\t<tr><th scope=row>housing</th><td>housing    </td><td> 1.32144668</td></tr>\n",
       "\t<tr><th scope=row>previous</th><td>previous   </td><td> 1.09450781</td></tr>\n",
       "\t<tr><th scope=row>marital</th><td>marital    </td><td> 1.00905355</td></tr>\n",
       "\t<tr><th scope=row>loan</th><td>loan       </td><td> 0.29636492</td></tr>\n",
       "\t<tr><th scope=row>default</th><td>default    </td><td> 0.02015411</td></tr>\n",
       "</tbody>\n",
       "</table>\n"
      ],
      "text/latex": [
       "\\begin{tabular}{r|ll}\n",
       "  & var & rel.inf\\\\\n",
       "\\hline\n",
       "\tduration & duration    & 26.86266542\\\\\n",
       "\tmonth & month       & 22.52350606\\\\\n",
       "\tjob & job         & 11.42012639\\\\\n",
       "\tbalance & balance     & 10.09836012\\\\\n",
       "\tage & age         &  5.75262312\\\\\n",
       "\tday & day         &  5.70853442\\\\\n",
       "\tpoutcome & poutcome    &  4.59250217\\\\\n",
       "\tpdays & pdays       &  3.20629747\\\\\n",
       "\tcontact & contact     &  3.01611751\\\\\n",
       "\tcampaign & campaign    &  1.55513761\\\\\n",
       "\teducation & education   &  1.52260266\\\\\n",
       "\thousing & housing     &  1.32144668\\\\\n",
       "\tprevious & previous    &  1.09450781\\\\\n",
       "\tmarital & marital     &  1.00905355\\\\\n",
       "\tloan & loan        &  0.29636492\\\\\n",
       "\tdefault & default     &  0.02015411\\\\\n",
       "\\end{tabular}\n"
      ],
      "text/markdown": [
       "\n",
       "| <!--/--> | var | rel.inf |\n",
       "|---|---|---|\n",
       "| duration | duration    | 26.86266542 |\n",
       "| month | month       | 22.52350606 |\n",
       "| job | job         | 11.42012639 |\n",
       "| balance | balance     | 10.09836012 |\n",
       "| age | age         |  5.75262312 |\n",
       "| day | day         |  5.70853442 |\n",
       "| poutcome | poutcome    |  4.59250217 |\n",
       "| pdays | pdays       |  3.20629747 |\n",
       "| contact | contact     |  3.01611751 |\n",
       "| campaign | campaign    |  1.55513761 |\n",
       "| education | education   |  1.52260266 |\n",
       "| housing | housing     |  1.32144668 |\n",
       "| previous | previous    |  1.09450781 |\n",
       "| marital | marital     |  1.00905355 |\n",
       "| loan | loan        |  0.29636492 |\n",
       "| default | default     |  0.02015411 |\n",
       "\n"
      ],
      "text/plain": [
       "          var       rel.inf    \n",
       "duration  duration  26.86266542\n",
       "month     month     22.52350606\n",
       "job       job       11.42012639\n",
       "balance   balance   10.09836012\n",
       "age       age        5.75262312\n",
       "day       day        5.70853442\n",
       "poutcome  poutcome   4.59250217\n",
       "pdays     pdays      3.20629747\n",
       "contact   contact    3.01611751\n",
       "campaign  campaign   1.55513761\n",
       "education education  1.52260266\n",
       "housing   housing    1.32144668\n",
       "previous  previous   1.09450781\n",
       "marital   marital    1.00905355\n",
       "loan      loan       0.29636492\n",
       "default   default    0.02015411"
      ]
     },
     "metadata": {},
     "output_type": "display_data"
    },
    {
     "data": {
      "image/png": "[encoded data removed]",
      "text/plain": [
       "plot without title"
      ]
     },
     "metadata": {},
     "output_type": "display_data"
    }
   ],
   "source": [
    "summary(ada_mod)"
   ]
  },
  {
   "cell_type": "code",
   "execution_count": 108,
   "metadata": {},
   "outputs": [
    {
     "data": {
      "text/plain": [
       "              \n",
       "ada_train_pred    0    1\n",
       "             0 3970  127\n",
       "             1  158 3558"
      ]
     },
     "metadata": {},
     "output_type": "display_data"
    }
   ],
   "source": [
    "# training error\n",
    "ada_train_res = predict(ada_mod, newdata=train, n.trees=5000, type=\"response\")\n",
    "ada_train_pred = ifelse(ada_train_res>0.5, 1, 0)\n",
    "table(ada_train_pred, train$deposit)"
   ]
  },
  {
   "cell_type": "code",
   "execution_count": 109,
   "metadata": {},
   "outputs": [
    {
     "data": {
      "text/html": [
       "0.0364776654294125"
      ],
      "text/latex": [
       "0.0364776654294125"
      ],
      "text/markdown": [
       "0.0364776654294125"
      ],
      "text/plain": [
       "[1] 0.03647767"
      ]
     },
     "metadata": {},
     "output_type": "display_data"
    }
   ],
   "source": [
    "ada_train_err = mean(ada_train_pred != train$deposit)\n",
    "ada_train_err"
   ]
  },
  {
   "cell_type": "code",
   "execution_count": 110,
   "metadata": {},
   "outputs": [
    {
     "data": {
      "text/plain": [
       "             \n",
       "ada_test_pred    0    1\n",
       "            0 1479  229\n",
       "            1  266 1375"
      ]
     },
     "metadata": {},
     "output_type": "display_data"
    }
   ],
   "source": [
    "# testing error\n",
    "ada_test_res = predict(ada_mod, newdata=test, n.trees=5000, type=\"response\")\n",
    "ada_test_pred = ifelse(ada_test_res>0.5, 1, 0)\n",
    "table(ada_test_pred, test$deposit)"
   ]
  },
  {
   "cell_type": "code",
   "execution_count": 111,
   "metadata": {},
   "outputs": [
    {
     "data": {
      "text/html": [
       "0.147805315019409"
      ],
      "text/latex": [
       "0.147805315019409"
      ],
      "text/markdown": [
       "0.147805315019409"
      ],
      "text/plain": [
       "[1] 0.1478053"
      ]
     },
     "metadata": {},
     "output_type": "display_data"
    }
   ],
   "source": [
    "ada_test_err = mean(ada_test_pred != test$deposit)\n",
    "ada_test_err"
   ]
  },
  {
   "cell_type": "markdown",
   "metadata": {},
   "source": [
    "**Using 1000 trees**"
   ]
  },
  {
   "cell_type": "code",
   "execution_count": 112,
   "metadata": {},
   "outputs": [
    {
     "data": {
      "text/plain": [
       "             \n",
       "ada_test_pred    0    1\n",
       "            0 1481  203\n",
       "            1  264 1401"
      ]
     },
     "metadata": {},
     "output_type": "display_data"
    }
   ],
   "source": [
    "# testing error\n",
    "ada_test_res = predict(ada_mod, newdata=test, n.trees=1000, type=\"response\")\n",
    "ada_test_pred = ifelse(ada_test_res>0.5, 1, 0)\n",
    "table(ada_test_pred, test$deposit)"
   ]
  },
  {
   "cell_type": "code",
   "execution_count": 113,
   "metadata": {},
   "outputs": [
    {
     "data": {
      "text/html": [
       "0.139444610331442"
      ],
      "text/latex": [
       "0.139444610331442"
      ],
      "text/markdown": [
       "0.139444610331442"
      ],
      "text/plain": [
       "[1] 0.1394446"
      ]
     },
     "metadata": {},
     "output_type": "display_data"
    }
   ],
   "source": [
    "ada_test_err = mean(ada_test_pred != test$deposit)\n",
    "ada_test_err"
   ]
  },
  {
   "cell_type": "code",
   "execution_count": 38,
   "metadata": {},
   "outputs": [],
   "source": [
    "ntrees = c(100, 200, 300, 400, 500, 600, 700, 800, 900, 1000, 2000, 3000, 4000, 5000, 10000)\n",
    "test_error = c()\n",
    "for (i in 1:length(ntrees)){\n",
    "    ada_mod = gbm(deposit ~., data=train, distribution=\"adaboost\", n.trees=ntrees[i],\n",
    "              interaction.depth=3, shrinkage = 0.01)\n",
    "    ada_test_res = predict(ada_mod, newdata=test, n.trees=ntrees[i], type=\"response\")\n",
    "    ada_test_pred = ifelse(ada_test_res>0.5, 1, 0)\n",
    "    test_error[i] = mean(ada_test_pred != test$deposit)   \n",
    "}"
   ]
  },
  {
   "cell_type": "code",
   "execution_count": 39,
   "metadata": {},
   "outputs": [
    {
     "data": {
      "image/png": "[encoded data removed]",
      "text/plain": [
       "plot without title"
      ]
     },
     "metadata": {},
     "output_type": "display_data"
    }
   ],
   "source": [
    "errors = data.frame(test_error, ntrees)\n",
    "ggplot(errors,color = Error, aes(x = ntrees)) + \n",
    "  geom_line(aes(y = test_error), col = \"blue\") + geom_point(aes(y = test_error), col = \"blue\") +\n",
    "  ylab(\"Error Rate\") + xlab(\"ntrees\") + ggtitle(\"effect of number of trees on test error\") + \n",
    "  theme_minimal()"
   ]
  },
  {
   "cell_type": "code",
   "execution_count": 8,
   "metadata": {},
   "outputs": [],
   "source": [
    "depth = c(1, 2, 3, 4, 5, 6, 7, 8, 9, 10, 20, 30)\n",
    "test_error = c()\n",
    "for (i in 1:length(depth)){\n",
    "    ada_mod = gbm(deposit ~., data=train, distribution=\"adaboost\", n.trees = 2000,\n",
    "              interaction.depth=depth[i], shrinkage = 0.01)\n",
    "    ada_test_res = predict(ada_mod, newdata=test, n.trees=2000, type=\"response\")\n",
    "    ada_test_pred = ifelse(ada_test_res>0.5, 1, 0)\n",
    "    test_error[i] = mean(ada_test_pred != test$deposit)   \n",
    "}"
   ]
  },
  {
   "cell_type": "code",
   "execution_count": 9,
   "metadata": {},
   "outputs": [
    {
     "data": {
      "image/png": "[encoded data removed]",
      "text/plain": [
       "plot without title"
      ]
     },
     "metadata": {},
     "output_type": "display_data"
    }
   ],
   "source": [
    "errors = data.frame(test_error,depth)\n",
    "ggplot(errors,color = Error, aes(x = depth)) + \n",
    "  geom_line(aes(y = test_error), col = \"blue\") + geom_point(aes(y = test_error), col = \"blue\") +\n",
    "  ylab(\"Error Rate\") + xlab(\"interaction.depth\") + ggtitle(\"effect of interaction depth on test error\") + \n",
    "  theme_minimal()"
   ]
  },
  {
   "cell_type": "code",
   "execution_count": 10,
   "metadata": {},
   "outputs": [],
   "source": [
    "shrinkage = c(0.01, 0.05, 0.1, 0.15, 0.2, 0.25, 0.3, 0.35, 0.4, 0.45, 0.5)\n",
    "test_error = c()\n",
    "for (i in 1:length(shrinkage)){\n",
    "    ada_mod = gbm(deposit ~., data=train, distribution=\"adaboost\", n.trees=2000,\n",
    "              interaction.depth=3, shrinkage = shrinkage[i])\n",
    "    ada_test_res = predict(ada_mod, newdata=test, n.trees=2000, type=\"response\")\n",
    "    ada_test_pred = ifelse(ada_test_res>0.5, 1, 0)\n",
    "    test_error[i] = mean(ada_test_pred != test$deposit)   \n",
    "}"
   ]
  },
  {
   "cell_type": "code",
   "execution_count": 11,
   "metadata": {},
   "outputs": [
    {
     "data": {
      "image/png": "[encoded data removed]",
      "text/plain": [
       "plot without title"
      ]
     },
     "metadata": {},
     "output_type": "display_data"
    }
   ],
   "source": [
    "errors = data.frame(test_error,shrinkage)\n",
    "ggplot(errors,color = Error, aes(x = shrinkage)) + \n",
    "  geom_line(aes(y = test_error), col = \"blue\") + geom_point(aes(y = test_error), col = \"blue\") +\n",
    "  ylab(\"Error Rate\") + xlab(\"shrinkage\") + ggtitle(\"effect of shrinkage on test error\") + \n",
    "  theme_minimal()"
   ]
  }
 ],
 "metadata": {
  "kernelspec": {
   "display_name": "R",
   "language": "R",
   "name": "ir"
  },
  "language_info": {
   "codemirror_mode": "r",
   "file_extension": ".r",
   "mimetype": "text/x-r-source",
   "name": "R",
   "pygments_lexer": "r",
   "version": "3.6.1"
  }
 },
 "nbformat": 4,
 "nbformat_minor": 4
}
